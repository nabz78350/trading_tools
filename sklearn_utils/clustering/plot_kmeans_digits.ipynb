{
  "cells": [
    {
      "cell_type": "markdown",
      "metadata": {},
      "source": [
        "\n",
        "# A demo of K-Means clustering on the handwritten digits data\n",
        "\n",
        "In this example we compare the various initialization strategies for K-means in\n",
        "terms of runtime and quality of the results.\n",
        "\n",
        "As the ground truth is known here, we also apply different cluster quality\n",
        "metrics to judge the goodness of fit of the cluster labels to the ground truth.\n",
        "\n",
        "Cluster quality metrics evaluated (see `clustering_evaluation` for\n",
        "definitions and discussions of the metrics):\n",
        "\n",
        "=========== ========================================================\n",
        "Shorthand    full name\n",
        "=========== ========================================================\n",
        "homo         homogeneity score\n",
        "compl        completeness score\n",
        "v-meas       V measure\n",
        "ARI          adjusted Rand index\n",
        "AMI          adjusted mutual information\n",
        "silhouette   silhouette coefficient\n",
        "=========== ========================================================\n"
      ]
    },
    {
      "cell_type": "markdown",
      "metadata": {},
      "source": [
        "## Load the dataset\n",
        "\n",
        "We will start by loading the `digits` dataset. This dataset contains\n",
        "handwritten digits from 0 to 9. In the context of clustering, one would like\n",
        "to group images such that the handwritten digits on the image are the same.\n",
        "\n"
      ]
    },
    {
      "cell_type": "code",
      "execution_count": 4,
      "metadata": {
        "collapsed": false
      },
      "outputs": [
        {
          "name": "stdout",
          "output_type": "stream",
          "text": [
            "# digits: 10; # samples: 1797; # features 64\n"
          ]
        }
      ],
      "source": [
        "import numpy as np\n",
        "\n",
        "from sklearn.datasets import load_digits\n",
        "\n",
        "data, labels = load_digits(return_X_y=True)\n",
        "(n_samples, n_features), n_digits = data.shape, np.unique(labels).size\n",
        "\n",
        "print(f\"# digits: {n_digits}; # samples: {n_samples}; # features {n_features}\")"
      ]
    },
    {
      "cell_type": "markdown",
      "metadata": {},
      "source": [
        "## Define our evaluation benchmark\n",
        "\n",
        "We will first our evaluation benchmark. During this benchmark, we intend to\n",
        "compare different initialization methods for KMeans. Our benchmark will:\n",
        "\n",
        "* create a pipeline which will scale the data using a\n",
        "  :class:`~sklearn.preprocessing.StandardScaler`;\n",
        "* train and time the pipeline fitting;\n",
        "* measure the performance of the clustering obtained via different metrics.\n",
        "\n"
      ]
    },
    {
      "cell_type": "code",
      "execution_count": 2,
      "metadata": {
        "collapsed": false
      },
      "outputs": [],
      "source": [
        "from time import time\n",
        "\n",
        "from sklearn import metrics\n",
        "from sklearn.pipeline import make_pipeline\n",
        "from sklearn.preprocessing import StandardScaler\n",
        "\n",
        "\n",
        "def bench_k_means(kmeans, name, data, labels):\n",
        "    \"\"\"Benchmark to evaluate the KMeans initialization methods.\n",
        "\n",
        "    Parameters\n",
        "    ----------\n",
        "    kmeans : KMeans instance\n",
        "        A :class:`~sklearn.cluster.KMeans` instance with the initialization\n",
        "        already set.\n",
        "    name : str\n",
        "        Name given to the strategy. It will be used to show the results in a\n",
        "        table.\n",
        "    data : ndarray of shape (n_samples, n_features)\n",
        "        The data to cluster.\n",
        "    labels : ndarray of shape (n_samples,)\n",
        "        The labels used to compute the clustering metrics which requires some\n",
        "        supervision.\n",
        "    \"\"\"\n",
        "    t0 = time()\n",
        "    estimator = make_pipeline(StandardScaler(), kmeans).fit(data)\n",
        "    fit_time = time() - t0\n",
        "    results = [name, fit_time, estimator[-1].inertia_]\n",
        "\n",
        "    # Define the metrics which require only the true labels and estimator\n",
        "    # labels\n",
        "    clustering_metrics = [\n",
        "        metrics.homogeneity_score,\n",
        "        metrics.completeness_score,\n",
        "        metrics.v_measure_score,\n",
        "        metrics.adjusted_rand_score,\n",
        "        metrics.adjusted_mutual_info_score,\n",
        "    ]\n",
        "    results += [m(labels, estimator[-1].labels_) for m in clustering_metrics]\n",
        "\n",
        "    # The silhouette score requires the full dataset\n",
        "    results += [\n",
        "        metrics.silhouette_score(\n",
        "            data,\n",
        "            estimator[-1].labels_,\n",
        "            metric=\"euclidean\",\n",
        "            sample_size=300,\n",
        "        )\n",
        "    ]\n",
        "\n",
        "    # Show the results\n",
        "    formatter_result = (\n",
        "        \"{:9s}\\t{:.3f}s\\t{:.0f}\\t{:.3f}\\t{:.3f}\\t{:.3f}\\t{:.3f}\\t{:.3f}\\t{:.3f}\"\n",
        "    )\n",
        "    print(formatter_result.format(*results))"
      ]
    },
    {
      "cell_type": "markdown",
      "metadata": {},
      "source": [
        "## Run the benchmark\n",
        "\n",
        "We will compare three approaches:\n",
        "\n",
        "* an initialization using `k-means++`. This method is stochastic and we will\n",
        "  run the initialization 4 times;\n",
        "* a random initialization. This method is stochastic as well and we will run\n",
        "  the initialization 4 times;\n",
        "* an initialization based on a :class:`~sklearn.decomposition.PCA`\n",
        "  projection. Indeed, we will use the components of the\n",
        "  :class:`~sklearn.decomposition.PCA` to initialize KMeans. This method is\n",
        "  deterministic and a single initialization suffice.\n",
        "\n"
      ]
    },
    {
      "cell_type": "code",
      "execution_count": 5,
      "metadata": {
        "collapsed": false
      },
      "outputs": [
        {
          "name": "stdout",
          "output_type": "stream",
          "text": [
            "__________________________________________________________________________________\n",
            "init\t\ttime\tinertia\thomo\tcompl\tv-meas\tARI\tAMI\tsilhouette\n",
            "k-means++\t0.036s\t69545\t0.598\t0.645\t0.621\t0.469\t0.617\t0.141\n",
            "random   \t0.024s\t69735\t0.681\t0.723\t0.701\t0.574\t0.698\t0.176\n",
            "PCA-based\t0.009s\t72686\t0.636\t0.658\t0.647\t0.521\t0.643\t0.148\n",
            "__________________________________________________________________________________\n"
          ]
        }
      ],
      "source": [
        "from sklearn.cluster import KMeans\n",
        "from sklearn.decomposition import PCA\n",
        "\n",
        "print(82 * \"_\")\n",
        "print(\"init\\t\\ttime\\tinertia\\thomo\\tcompl\\tv-meas\\tARI\\tAMI\\tsilhouette\")\n",
        "\n",
        "kmeans = KMeans(init=\"k-means++\", n_clusters=n_digits, n_init=4, random_state=0)\n",
        "bench_k_means(kmeans=kmeans, name=\"k-means++\", data=data, labels=labels)\n",
        "\n",
        "kmeans = KMeans(init=\"random\", n_clusters=n_digits, n_init=4, random_state=0)\n",
        "bench_k_means(kmeans=kmeans, name=\"random\", data=data, labels=labels)\n",
        "\n",
        "pca = PCA(n_components=n_digits).fit(data)\n",
        "kmeans = KMeans(init=pca.components_, n_clusters=n_digits, n_init=1)\n",
        "bench_k_means(kmeans=kmeans, name=\"PCA-based\", data=data, labels=labels)\n",
        "\n",
        "print(82 * \"_\")"
      ]
    },
    {
      "cell_type": "markdown",
      "metadata": {},
      "source": [
        "# Initializing K-Means with PCA Components\n",
        "\n",
        "When initializing k-means clustering, the choice of initial cluster centroids can significantly impact the final clustering results. One effective method to improve initialization is to use Principal Component Analysis (PCA). By initializing k-means with PCA components, you can leverage the structure captured by PCA to provide a good starting point for the clustering algorithm.\n"
      ]
    },
    {
      "cell_type": "markdown",
      "metadata": {},
      "source": [
        "# Metrics for Evaluating K-Means Clustering\n",
        "\n",
        "## Metrics Definitions and Interpretations\n",
        "\n",
        "### 1. Inertia\n",
        "- **Definition**: Inertia measures the sum of squared distances between each point and its assigned cluster center. It is also known as within-cluster sum of squares (WCSS).\n",
        "- **Formula**: \n",
        "  $\\\n",
        "  \\text{Inertia} = \\sum_{i=1}^{n} \\sum_{j=1}^{k} \\min_{\\mu_j} (||x_i - \\mu_j||^2)\n",
        "  $\n",
        "  where \\( n \\) is the number of samples, \\( k \\) is the number of clusters, \\( x_i \\) is a data point, and \\( \\mu_j \\) is the centroid of cluster \\( j \\).\n",
        "- **Interpretation**: Lower inertia indicates better clustering as points are closer to their centroids. However, it should be used in conjunction with other metrics for a comprehensive evaluation.\n",
        "\n",
        "### 2. Homogeneity (homo)\n",
        "- **Definition**: Homogeneity measures if all clusters contain only data points which are members of a single class.\n",
        "- **Formula**:\n",
        "  $\\\n",
        "  \\text{Homogeneity} = 1 - \\frac{H(C|K)}{H(C)}\n",
        "  $\n",
        "  where \\( H(C|K) \\) is the conditional entropy of the class distribution given the cluster assignments and \\( H(C) \\) is the entropy of the class distribution.\n",
        "- **Interpretation**: Value ranges from 0 to 1. Higher values indicate that clusters are more homogenous, i.e., each cluster predominantly contains a single class.\n",
        "\n",
        "### 3. Completeness (compl)\n",
        "- **Definition**: Completeness measures if all data points that are members of a given class are elements of the same cluster.\n",
        "- **Formula**:\n",
        "  $\\\n",
        "  \\text{Completeness} = 1 - \\frac{H(K|C)}{H(K)}\n",
        "  $\n",
        "  where \\( H(K|C) \\) is the conditional entropy of the cluster distribution given the class assignments and \\( H(K) \\) is the entropy of the cluster distribution.\n",
        "- **Interpretation**: Value ranges from 0 to 1. Higher values indicate that clusters are more complete, i.e., all points of a class are assigned to the same cluster.\n",
        "\n",
        "### 4. V-Measure (v-meas)\n",
        "- **Definition**: V-Measure is the harmonic mean of homogeneity and completeness.\n",
        "- **Formula**:\n",
        "  $\\\n",
        "  \\text{V-Measure} = 2 \\times \\frac{\\text{homogeneity} \\times \\text{completeness}}{\\text{homogeneity} + \\text{completeness}}\n",
        "  $\n",
        "- **Interpretation**: Value ranges from 0 to 1. Higher values indicate a better balance between homogeneity and completeness.\n",
        "\n",
        "### 5. Adjusted Rand Index (ARI)\n",
        "- **Definition**: ARI measures the similarity between the predicted and true clusterings, adjusted for chance.\n",
        "- **Formula**:\n",
        "  $\\\n",
        "  \\text{ARI} = \\frac{\\text{RI} - \\text{Expected RI}}{\\max(\\text{RI}) - \\text{Expected RI}}\n",
        "  $\n",
        "  where RI is the Rand Index.\n",
        "- **Interpretation**: Value ranges from -1 to 1. Higher values indicate better agreement between the clustering and the true labels, with 1 being perfect agreement and 0 indicating random labeling.\n",
        "\n",
        "### 6. Adjusted Mutual Information (AMI)\n",
        "- **Definition**: AMI measures the agreement of the two assignments, adjusting for chance.\n",
        "- **Formula**:\n",
        "  $\\\n",
        "  \\text{AMI} = \\frac{\\text{MI} - \\mathbb{E}[\\text{MI}]}{\\max(\\text{H}(U), \\text{H}(V)) - \\mathbb{E}[\\text{MI}]}\n",
        "  $\n",
        "  where MI is mutual information, \\( \\mathbb{E}[\\text{MI}] \\) is the expected mutual information, and \\( \\text{H}(U) \\) and \\( \\text{H}(V) \\) are the entropies of the two label distributions.\n",
        "- **Interpretation**: Value ranges from 0 to 1. Higher values indicate a higher agreement between the clustering and the true labels.\n",
        "\n",
        "### 7. Silhouette Coefficient (silhouette)\n",
        "- **Definition**: Silhouette Coefficient measures how similar a point is to its own cluster compared to other clusters.\n",
        "- **Formula**:\n",
        "  $\\\n",
        "  s = \\frac{b - a}{\\max(a, b)}\n",
        "  $\n",
        "  where \\( a \\) is the mean distance between a sample and all other points in the same cluster, and \\( b \\) is the mean distance between a sample and all points in the next nearest cluster.\n",
        "- **Interpretation**: Value ranges from -1 to 1. Higher values indicate better-defined clusters.\n",
        "\n",
        "## Interpretation of Metric Values for K-Means\n",
        "\n",
        "| Metric       | k-means++ | Random   | PCA-based |\n",
        "|--------------|-----------|----------|-----------|\n",
        "| Inertia      | 69545     | 69735    | 72686     |\n",
        "| Homogeneity  | 0.598     | 0.681    | 0.636     |\n",
        "| Completeness | 0.645     | 0.723    | 0.658     |\n",
        "| V-Measure    | 0.621     | 0.701    | 0.647     |\n",
        "| ARI          | 0.469     | 0.574    | 0.521     |\n",
        "| AMI          | 0.617     | 0.698    | 0.643     |\n",
        "| Silhouette   | 0.156     | 0.184    | 0.136     |\n",
        "\n",
        "- **Inertia**: Random initialization yields the lowest inertia, indicating the tightest clusters.\n",
        "- **Homogeneity and Completeness**: Random initialization shows the highest values, indicating better clusters where members are more similar within the same cluster and more complete.\n",
        "- **V-Measure**: Higher for random initialization, indicating a better balance of homogeneity and completeness.\n",
        "- **ARI and AMI**: Random initialization shows higher indices, indicating better agreement with the true labels.\n",
        "- **Silhouette**: Random initialization has the highest value, indicating better-defined clusters.\n",
        "\n",
        "Overall, the random initialization method appears to produce the best clustering results based on these metrics.\n"
      ]
    },
    {
      "cell_type": "markdown",
      "metadata": {},
      "source": [
        "## Visualize the results on PCA-reduced data\n",
        "\n",
        ":class:`~sklearn.decomposition.PCA` allows to project the data from the\n",
        "original 64-dimensional space into a lower dimensional space. Subsequently,\n",
        "we can use :class:`~sklearn.decomposition.PCA` to project into a\n",
        "2-dimensional space and plot the data and the clusters in this new space.\n",
        "\n"
      ]
    },
    {
      "cell_type": "code",
      "execution_count": 10,
      "metadata": {
        "collapsed": false
      },
      "outputs": [
        {
          "data": {
            "image/png": "[encoded data removed]",
            "text/plain": [
              "<Figure size 640x480 with 1 Axes>"
            ]
          },
          "metadata": {},
          "output_type": "display_data"
        }
      ],
      "source": [
        "import matplotlib.pyplot as plt\n",
        "\n",
        "reduced_data = PCA(n_components=2).fit_transform(data)\n",
        "kmeans = KMeans(init=\"k-means++\", n_clusters=n_digits, n_init=4)\n",
        "kmeans.fit(reduced_data)\n",
        "\n",
        "# Step size of the mesh. Decrease to increase the quality of the VQ.\n",
        "h = 0.02  # point in the mesh [x_min, x_max]x[y_min, y_max].\n",
        "\n",
        "# Plot the decision boundary. For that, we will assign a color to each\n",
        "x_min, x_max = reduced_data[:, 0].min() - 1, reduced_data[:, 0].max() + 1\n",
        "y_min, y_max = reduced_data[:, 1].min() - 1, reduced_data[:, 1].max() + 1\n",
        "xx, yy = np.meshgrid(np.arange(x_min, x_max, h), np.arange(y_min, y_max, h))\n",
        "\n",
        "# Obtain labels for each point in mesh. Use last trained model.\n",
        "Z = kmeans.predict(np.c_[xx.ravel(), yy.ravel()])\n",
        "\n",
        "# Put the result into a color plot\n",
        "Z = Z.reshape(xx.shape)\n",
        "plt.figure(1)\n",
        "plt.clf()\n",
        "plt.imshow(\n",
        "    Z,\n",
        "    interpolation=\"nearest\",\n",
        "    extent=(xx.min(), xx.max(), yy.min(), yy.max()),\n",
        "    cmap=plt.cm.Paired,\n",
        "    aspect=\"auto\",\n",
        "    origin=\"lower\",\n",
        ")\n",
        "\n",
        "plt.plot(reduced_data[:, 0], reduced_data[:, 1], \"k.\", markersize=2)\n",
        "# Plot the centroids as a white X\n",
        "centroids = kmeans.cluster_centers_\n",
        "plt.scatter(\n",
        "    centroids[:, 0],\n",
        "    centroids[:, 1],\n",
        "    marker=\"x\",\n",
        "    s=169,\n",
        "    linewidths=3,\n",
        "    color=\"w\",\n",
        "    zorder=10,\n",
        ")\n",
        "plt.title(\n",
        "    \"K-means clustering on the digits dataset (PCA-reduced data)\\n\"\n",
        "    \"Centroids are marked with white cross\"\n",
        ")\n",
        "plt.xlim(x_min, x_max)\n",
        "plt.ylim(y_min, y_max)\n",
        "plt.xticks(())\n",
        "plt.yticks(())\n",
        "plt.show()"
      ]
    },
    {
      "cell_type": "code",
      "execution_count": null,
      "metadata": {},
      "outputs": [],
      "source": []
    }
  ],
  "metadata": {
    "kernelspec": {
      "display_name": "Python 3",
      "language": "python",
      "name": "python3"
    },
    "language_info": {
      "codemirror_mode": {
        "name": "ipython",
        "version": 3
      },
      "file_extension": ".py",
      "mimetype": "text/x-python",
      "name": "python",
      "nbconvert_exporter": "python",
      "pygments_lexer": "ipython3",
      "version": "3.11.5"
    }
  },
  "nbformat": 4,
  "nbformat_minor": 0
}
