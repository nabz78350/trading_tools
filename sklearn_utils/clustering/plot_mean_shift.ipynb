{
  "cells": [
    {
      "cell_type": "markdown",
      "metadata": {},
      "source": [
        "\n",
        "# A demo of the mean-shift clustering algorithm\n",
        "\n",
        "Reference:\n",
        "\n",
        "Dorin Comaniciu and Peter Meer, \"Mean Shift: A robust approach toward\n",
        "feature space analysis\". IEEE Transactions on Pattern Analysis and\n",
        "Machine Intelligence. 2002. pp. 603-619.\n"
      ]
    },
    {
      "cell_type": "code",
      "execution_count": 6,
      "metadata": {
        "collapsed": false
      },
      "outputs": [],
      "source": [
        "import numpy as np\n",
        "import pandas as pd \n",
        "from sklearn.cluster import MeanShift, estimate_bandwidth\n",
        "from sklearn.datasets import make_blobs"
      ]
    },
    {
      "cell_type": "markdown",
      "metadata": {},
      "source": [
        "## Generate sample data\n",
        "\n"
      ]
    },
    {
      "cell_type": "code",
      "execution_count": 29,
      "metadata": {
        "collapsed": false
      },
      "outputs": [],
      "source": [
        "centers = [[1, 1], [-1, -1], [1, -1]]\n",
        "X, _ = make_blobs(n_samples=10000, n_features = 10,centers=centers, cluster_std=0.6)"
      ]
    },
    {
      "cell_type": "markdown",
      "metadata": {},
      "source": [
        "## Compute clustering with MeanShift\n",
        "\n"
      ]
    },
    {
      "cell_type": "code",
      "execution_count": 30,
      "metadata": {},
      "outputs": [
        {
          "data": {
            "text/html": [
              "<div>\n",
              "<style scoped>\n",
              "    .dataframe tbody tr th:only-of-type {\n",
              "        vertical-align: middle;\n",
              "    }\n",
              "\n",
              "    .dataframe tbody tr th {\n",
              "        vertical-align: top;\n",
              "    }\n",
              "\n",
              "    .dataframe thead th {\n",
              "        text-align: right;\n",
              "    }\n",
              "</style>\n",
              "<table border=\"1\" class=\"dataframe\">\n",
              "  <thead>\n",
              "    <tr style=\"text-align: right;\">\n",
              "      <th></th>\n",
              "      <th>0</th>\n",
              "      <th>1</th>\n",
              "    </tr>\n",
              "  </thead>\n",
              "  <tbody>\n",
              "    <tr>\n",
              "      <th>0</th>\n",
              "      <td>-0.696164</td>\n",
              "      <td>-1.602531</td>\n",
              "    </tr>\n",
              "    <tr>\n",
              "      <th>1</th>\n",
              "      <td>0.203683</td>\n",
              "      <td>0.673554</td>\n",
              "    </tr>\n",
              "    <tr>\n",
              "      <th>2</th>\n",
              "      <td>0.208715</td>\n",
              "      <td>1.266651</td>\n",
              "    </tr>\n",
              "    <tr>\n",
              "      <th>3</th>\n",
              "      <td>0.861512</td>\n",
              "      <td>-0.973352</td>\n",
              "    </tr>\n",
              "    <tr>\n",
              "      <th>4</th>\n",
              "      <td>1.492984</td>\n",
              "      <td>1.464162</td>\n",
              "    </tr>\n",
              "    <tr>\n",
              "      <th>...</th>\n",
              "      <td>...</td>\n",
              "      <td>...</td>\n",
              "    </tr>\n",
              "    <tr>\n",
              "      <th>9995</th>\n",
              "      <td>0.611036</td>\n",
              "      <td>1.284511</td>\n",
              "    </tr>\n",
              "    <tr>\n",
              "      <th>9996</th>\n",
              "      <td>0.920095</td>\n",
              "      <td>0.059766</td>\n",
              "    </tr>\n",
              "    <tr>\n",
              "      <th>9997</th>\n",
              "      <td>-0.285906</td>\n",
              "      <td>-0.944865</td>\n",
              "    </tr>\n",
              "    <tr>\n",
              "      <th>9998</th>\n",
              "      <td>1.060250</td>\n",
              "      <td>-1.402331</td>\n",
              "    </tr>\n",
              "    <tr>\n",
              "      <th>9999</th>\n",
              "      <td>0.886380</td>\n",
              "      <td>-0.795845</td>\n",
              "    </tr>\n",
              "  </tbody>\n",
              "</table>\n",
              "<p>10000 rows × 2 columns</p>\n",
              "</div>"
            ],
            "text/plain": [
              "             0         1\n",
              "0    -0.696164 -1.602531\n",
              "1     0.203683  0.673554\n",
              "2     0.208715  1.266651\n",
              "3     0.861512 -0.973352\n",
              "4     1.492984  1.464162\n",
              "...        ...       ...\n",
              "9995  0.611036  1.284511\n",
              "9996  0.920095  0.059766\n",
              "9997 -0.285906 -0.944865\n",
              "9998  1.060250 -1.402331\n",
              "9999  0.886380 -0.795845\n",
              "\n",
              "[10000 rows x 2 columns]"
            ]
          },
          "execution_count": 30,
          "metadata": {},
          "output_type": "execute_result"
        }
      ],
      "source": [
        "pd.DataFrame(X)"
      ]
    },
    {
      "cell_type": "markdown",
      "metadata": {},
      "source": [
        "# Mean Shift Algorithm\n",
        "\n",
        "## Overview\n",
        "\n",
        "Mean shift is a procedure for locating the maxima—the modes—of a density function given discrete data sampled from that function. This is an iterative method, and we start with an initial estimate $\\ x $. \n",
        "\n",
        "Let a kernel function $\\ K(x_i - x) $ be given. This function determines the weight of nearby points for re-estimation of the mean. Typically, a Gaussian kernel on the distance to the current estimate is used:\n",
        "$\\\n",
        "K(x_i - x) = e^{-c||x_i - x||^2}\n",
        "$\n",
        "\n",
        "The weighted mean of the density in the window determined by $\\ K $ is:\n",
        "$\\\n",
        "m(x) = \\frac{\\sum_{x_i \\in N(x)} K(x_i - x) x_i}{\\sum_{x_i \\in N(x)} K(x_i - x)}\n",
        "$\n",
        "\n",
        "where $\\ N(x) $ is the neighborhood of $\\ x $, a set of points for which $\\ K(x_i - x) \\neq 0 $.\n",
        "\n",
        "The difference $\\ m(x) - x $ is called the mean shift. The mean-shift algorithm sets $\\ x \\leftarrow m(x) $ and repeats the estimation until $\\ m(x) $ converges.\n",
        "\n",
        "## Convergence\n",
        "\n",
        "Although the mean shift algorithm has been widely used in many applications, a rigid proof for the convergence of the algorithm using a general kernel in a high dimensional space is still not known. \n",
        "\n",
        "- **One-dimensional case**: Aliyari Ghassabeh showed the convergence with a differentiable, convex, and strictly decreasing profile function.\n",
        "- **Higher dimensions**: The convergence with a finite number of stationary (or isolated) points has been proved.\n"
      ]
    },
    {
      "cell_type": "code",
      "execution_count": 31,
      "metadata": {
        "collapsed": false
      },
      "outputs": [
        {
          "data": {
            "text/plain": [
              "0.6847129149331502"
            ]
          },
          "execution_count": 31,
          "metadata": {},
          "output_type": "execute_result"
        }
      ],
      "source": [
        "# The following bandwidth can be automatically detected using\n",
        "bandwidth = estimate_bandwidth(X, quantile=0.1, n_samples=500)\n",
        "bandwidth"
      ]
    },
    {
      "cell_type": "markdown",
      "metadata": {},
      "source": [
        "# Estimate Bandwidth Function\n",
        "\n",
        "## Overview\n",
        "\n",
        "The `estimate_bandwidth` function is used to estimate the bandwidth parameter for the mean-shift algorithm. The bandwidth parameter determines the window size for the kernel function in the mean-shift algorithm. Estimating an appropriate bandwidth is crucial for the performance of the mean-shift clustering.\n",
        "\n",
        "## Function Explanation\n",
        "\n",
        "### Parameters\n",
        "\n",
        "- **`X`**: An array-like structure of shape `(n_samples, n_features)` representing the input data points.\n",
        "- **`quantile`**: A float between 0 and 1 (default is 0.3). This quantile value determines which percentile of the pairwise distance distribution is used to estimate the bandwidth. For instance, a quantile of 0.5 uses the median of all pairwise distances.\n",
        "- **`n_samples`**: An integer (default is `None`). The number of samples to use for bandwidth estimation. If `None`, all samples in `X` are used.\n",
        "- **`random_state`**: An integer or `RandomState` instance (default is `None`). Used to control the randomness of the subsampling of input points for bandwidth estimation. Setting this ensures reproducibility.\n",
        "- **`n_jobs`**: An integer (default is `None`). The number of parallel jobs to run for neighbors search. `None` means 1, and `-1` means using all processors.\n",
        "\n",
        "### Returns\n",
        "\n",
        "- **`bandwidth`**: A float representing the estimated bandwidth parameter.\n",
        "\n",
        "### Steps of the Function\n",
        "\n",
        "1. **Input Validation**: \n",
        "   - The input data `X` is checked for validity using `check_array(X)`.\n",
        "   \n",
        "2. **Subsampling**: \n",
        "   - If `n_samples` is provided, a random subset of `X` of size `n_samples` is selected.\n",
        "   \n",
        "3. **Number of Neighbors**:\n",
        "   - The number of neighbors `n_neighbors` is set to the integer value of `X.shape[0] * quantile`.\n",
        "   \n",
        "4. **Nearest Neighbors Fit**:\n",
        "   - A `NearestNeighbors` model is fitted on the (subsampled) data `X` using the specified number of neighbors.\n",
        "   \n",
        "5. **Bandwidth Calculation**:\n",
        "   - For each batch of 500 samples, the maximum distance to the nearest neighbors is computed and summed.\n",
        "   - The final bandwidth is calculated as the average of these maximum distances.\n",
        "\n",
        "### Mathematical Explanation\n",
        "\n",
        "Given a dataset \\( X \\) with \\( n \\) samples and \\( d \\) features, the function estimates the bandwidth \\( h \\) as follows:\n",
        "\n",
        "1. **Subsampling** (if \\( n_{\\text{samples}} \\) is specified):\n",
        "   \\[\n",
        "   X' = \\text{random subset of } X \\text{ of size } n_{\\text{samples}}\n",
        "   \\]\n",
        "\n",
        "2. **\n",
        "The quantile is used in KNN (which is used inside the estimate_bandwidth function) to determine the bandwidth.\n",
        "Concretely:\n",
        "\n",
        "n = Number of samples in KNN = number of samples in the batch * quantile\n",
        "Bandwidth will be then calculated based on the average pairwise distances between the samples that are in the same cluster (returned by KNN). So you can use this to kind of figure out how to set the bandwidth. The bandwidth that is returned by this function will, on average, cover n samples, which will strongly affect the number of clusters that Mean Shift will return."
      ]
    },
    {
      "cell_type": "code",
      "execution_count": 32,
      "metadata": {},
      "outputs": [
        {
          "name": "stdout",
          "output_type": "stream",
          "text": [
            "number of estimated clusters : 3\n"
          ]
        }
      ],
      "source": [
        "\n",
        "ms = MeanShift(bandwidth=bandwidth, bin_seeding=True)\n",
        "ms.fit(X)\n",
        "labels = ms.labels_\n",
        "cluster_centers = ms.cluster_centers_\n",
        "\n",
        "labels_unique = np.unique(labels)\n",
        "n_clusters_ = len(labels_unique)\n",
        "\n",
        "print(\"number of estimated clusters : %d\" % n_clusters_)"
      ]
    },
    {
      "cell_type": "markdown",
      "metadata": {},
      "source": [
        "## Plot result\n",
        "\n"
      ]
    },
    {
      "cell_type": "code",
      "execution_count": 33,
      "metadata": {
        "collapsed": false
      },
      "outputs": [
        {
          "data": {
            "image/png": "[encoded data removed]",
            "text/plain": [
              "<Figure size 640x480 with 1 Axes>"
            ]
          },
          "metadata": {},
          "output_type": "display_data"
        }
      ],
      "source": [
        "import matplotlib.pyplot as plt\n",
        "\n",
        "plt.figure(1)\n",
        "plt.clf()\n",
        "\n",
        "colors = [\"#dede00\", \"#377eb8\", \"#f781bf\"]\n",
        "markers = [\"x\", \"o\", \"^\"]\n",
        "\n",
        "for k, col in zip(range(n_clusters_), colors):\n",
        "    my_members = labels == k\n",
        "    cluster_center = cluster_centers[k]\n",
        "    plt.plot(X[my_members, 0], X[my_members, 1], markers[k], color=col)\n",
        "    plt.plot(\n",
        "        cluster_center[0],\n",
        "        cluster_center[1],\n",
        "        markers[k],\n",
        "        markerfacecolor=col,\n",
        "        markeredgecolor=\"k\",\n",
        "        markersize=14,\n",
        "    )\n",
        "plt.title(\"Estimated number of clusters: %d\" % n_clusters_)\n",
        "plt.show()"
      ]
    },
    {
      "cell_type": "code",
      "execution_count": null,
      "metadata": {},
      "outputs": [],
      "source": []
    }
  ],
  "metadata": {
    "kernelspec": {
      "display_name": "Python 3",
      "language": "python",
      "name": "python3"
    },
    "language_info": {
      "codemirror_mode": {
        "name": "ipython",
        "version": 3
      },
      "file_extension": ".py",
      "mimetype": "text/x-python",
      "name": "python",
      "nbconvert_exporter": "python",
      "pygments_lexer": "ipython3",
      "version": "3.11.5"
    }
  },
  "nbformat": 4,
  "nbformat_minor": 0
}
