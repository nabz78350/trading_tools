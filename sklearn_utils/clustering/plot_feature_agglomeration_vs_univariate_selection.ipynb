{
  "cells": [
    {
      "cell_type": "markdown",
      "metadata": {},
      "source": [
        "\n",
        "# Feature agglomeration vs. univariate selection\n",
        "\n",
        "This example compares 2 dimensionality reduction strategies:\n",
        "\n",
        "- univariate feature selection with Anova\n",
        "\n",
        "- feature agglomeration with Ward hierarchical clustering\n",
        "\n",
        "Both methods are compared in a regression problem using\n",
        "a BayesianRidge as supervised estimator.\n"
      ]
    },
    {
      "cell_type": "code",
      "execution_count": 1,
      "metadata": {
        "collapsed": false
      },
      "outputs": [],
      "source": [
        "# Author: Alexandre Gramfort <alexandre.gramfort@inria.fr>\n",
        "# License: BSD 3 clause"
      ]
    },
    {
      "cell_type": "code",
      "execution_count": 2,
      "metadata": {
        "collapsed": false
      },
      "outputs": [],
      "source": [
        "import shutil\n",
        "import tempfile\n",
        "\n",
        "import matplotlib.pyplot as plt\n",
        "import numpy as np\n",
        "from joblib import Memory\n",
        "from scipy import linalg, ndimage\n",
        "\n",
        "from sklearn import feature_selection\n",
        "from sklearn.cluster import FeatureAgglomeration\n",
        "from sklearn.feature_extraction.image import grid_to_graph\n",
        "from sklearn.linear_model import BayesianRidge\n",
        "from sklearn.model_selection import GridSearchCV, KFold\n",
        "from sklearn.pipeline import Pipeline"
      ]
    },
    {
      "cell_type": "markdown",
      "metadata": {},
      "source": [
        "Set parameters\n",
        "\n"
      ]
    },
    {
      "cell_type": "code",
      "execution_count": 3,
      "metadata": {
        "collapsed": false
      },
      "outputs": [],
      "source": [
        "n_samples = 200\n",
        "size = 40  # image size\n",
        "roi_size = 15\n",
        "snr = 5.0\n",
        "np.random.seed(0)"
      ]
    },
    {
      "cell_type": "markdown",
      "metadata": {},
      "source": [
        "Generate data\n",
        "\n"
      ]
    },
    {
      "cell_type": "code",
      "execution_count": 4,
      "metadata": {
        "collapsed": false
      },
      "outputs": [],
      "source": [
        "coef = np.zeros((size, size))\n",
        "coef[0:roi_size, 0:roi_size] = -1.0\n",
        "coef[-roi_size:, -roi_size:] = 1.0\n",
        "\n",
        "X = np.random.randn(n_samples, size**2)\n",
        "for x in X:  # smooth data\n",
        "    x[:] = ndimage.gaussian_filter(x.reshape(size, size), sigma=1.0).ravel()\n",
        "X -= X.mean(axis=0)\n",
        "X /= X.std(axis=0)\n",
        "\n",
        "y = np.dot(X, coef.ravel())"
      ]
    },
    {
      "cell_type": "markdown",
      "metadata": {},
      "source": [
        "add noise\n",
        "\n"
      ]
    },
    {
      "cell_type": "code",
      "execution_count": 5,
      "metadata": {
        "collapsed": false
      },
      "outputs": [],
      "source": [
        "noise = np.random.randn(y.shape[0])\n",
        "noise_coef = (linalg.norm(y, 2) / np.exp(snr / 20.0)) / linalg.norm(noise, 2)\n",
        "y += noise_coef * noise"
      ]
    },
    {
      "cell_type": "markdown",
      "metadata": {},
      "source": [
        "Compute the coefs of a Bayesian Ridge with GridSearch\n",
        "\n"
      ]
    },
    {
      "cell_type": "markdown",
      "metadata": {},
      "source": [
        "Ward agglomeration followed by BayesianRidge\n",
        "\n"
      ]
    },
    {
      "cell_type": "code",
      "execution_count": 13,
      "metadata": {
        "collapsed": false
      },
      "outputs": [
        {
          "name": "stdout",
          "output_type": "stream",
          "text": [
            "________________________________________________________________________________\n",
            "[Memory] Calling sklearn.cluster._agglomerative.ward_tree...\n",
            "ward_tree(array([[-0.451933, ..., -0.675318],\n",
            "       ...,\n",
            "       [ 0.275706, ..., -1.085711]]), connectivity=<1600x1600 sparse matrix of type '<class 'numpy.int32'>'\n",
            "\twith 7840 stored elements in COOrdinate format>, n_clusters=None, return_distance=False)\n",
            "________________________________________________________ward_tree - 0.0s, 0.0min\n",
            "________________________________________________________________________________\n",
            "[Memory] Calling sklearn.cluster._agglomerative.ward_tree...\n",
            "ward_tree(array([[ 0.905206, ...,  0.161245],\n",
            "       ...,\n",
            "       [-0.849835, ..., -1.091621]]), connectivity=<1600x1600 sparse matrix of type '<class 'numpy.int32'>'\n",
            "\twith 7840 stored elements in COOrdinate format>, n_clusters=None, return_distance=False)\n",
            "________________________________________________________ward_tree - 0.0s, 0.0min\n",
            "________________________________________________________________________________\n",
            "[Memory] Calling sklearn.cluster._agglomerative.ward_tree...\n",
            "ward_tree(array([[ 0.905206, ..., -0.675318],\n",
            "       ...,\n",
            "       [-0.849835, ..., -1.085711]]), connectivity=<1600x1600 sparse matrix of type '<class 'numpy.int32'>'\n",
            "\twith 7840 stored elements in COOrdinate format>, n_clusters=None, return_distance=False)\n",
            "________________________________________________________ward_tree - 0.0s, 0.0min\n"
          ]
        }
      ],
      "source": [
        "cv = KFold(2)  # cross-validation generator for model selection\n",
        "ridge = BayesianRidge()\n",
        "cachedir = tempfile.mkdtemp()\n",
        "mem = Memory(location=cachedir, verbose=1)\n",
        "connectivity = grid_to_graph(n_x=size, n_y=size)\n",
        "ward = FeatureAgglomeration(n_clusters=10, connectivity=connectivity, memory=mem)\n",
        "clf = Pipeline([(\"ward\", ward), (\"ridge\", ridge)])\n",
        "# Select the optimal number of parcels with grid search\n",
        "clf = GridSearchCV(clf, {\"ward__n_clusters\": [10, 20, 30]}, n_jobs=1, cv=cv)\n",
        "clf.fit(X, y)  # set the best parameters\n",
        "coef_ = clf.best_estimator_.steps[-1][1].coef_\n",
        "coef_ = clf.best_estimator_.steps[0][1].inverse_transform(coef_)\n",
        "coef_agglomeration_ = coef_.reshape(size, size)"
      ]
    },
    {
      "cell_type": "markdown",
      "metadata": {},
      "source": [
        "### Step 1: Connectivity Matrix with `grid_to_graph`\n",
        "\n",
        "**Function**: `grid_to_graph(n_x=size, n_y=size)`\n",
        "\n",
        "**Purpose**: Creates a connectivity matrix that represents the grid structure of the features. This ensures that the clustering algorithm considers the spatial structure of the data.\n",
        "\n",
        "**Math**:\n",
        "- Constructs a graph where each node represents a feature.\n",
        "- Edges are created between neighboring nodes based on the grid structure.\n",
        "\n",
        "**Main Args**:\n",
        "- `n_x`: Number of nodes in the x-direction (width of the grid).\n",
        "- `n_y`: Number of nodes in the y-direction (height of the grid).\n",
        "\n",
        "**Explanation**:\n",
        "- The connectivity matrix is used to define the neighborhood relationships between features in a grid. This spatial information is critical for methods like agglomerative clustering, which can leverage the structure to produce more meaningful clusters.\n"
      ]
    },
    {
      "cell_type": "markdown",
      "metadata": {},
      "source": [
        "### Step 2: Feature Agglomeration with `FeatureAgglomeration`\n",
        "\n",
        "**Function**: `ward = FeatureAgglomeration(n_clusters=10, connectivity=connectivity, memory=mem)`\n",
        "\n",
        "**Purpose**: Reduces the dimensionality of the feature space by clustering similar features together. The `connectivity` parameter ensures that only neighboring features in the grid are clustered together.\n",
        "\n",
        "**Math**:\n",
        "- **Hierarchical Clustering**: Uses Ward's method to minimize variance within clusters.\n",
        "- **Distance Calculation**: Considers the connectivity matrix to enforce spatial constraints.\n",
        "\n",
        "**Main Args**:\n",
        "- `n_clusters`: Number of clusters to find.\n",
        "- `connectivity`: Connectivity matrix that defines neighboring relationships.\n",
        "- `memory`: Used to cache the tree computation for faster processing.\n",
        "\n",
        "**Explanation**:\n",
        "- Feature agglomeration clusters features instead of samples, reducing the feature space's dimensionality. This can be especially useful when dealing with high-dimensional data, as it groups similar features together, creating a more manageable set of features.\n"
      ]
    },
    {
      "cell_type": "markdown",
      "metadata": {},
      "source": [
        "### Step 3: Caching Intermediate Results\n",
        "\n",
        "**Parameter**: `memory=mem`\n",
        "\n",
        "**Purpose**: Uses caching to store intermediate computations to disk, avoiding redundant calculations and speeding up the process.\n",
        "\n",
        "**Explanation**:\n",
        "- The `memory` parameter is set to a caching directory (e.g., `mem = Memory(cachedir='/path/to/cache')`).\n",
        "- When caching is enabled, intermediate results from the feature agglomeration step are saved in the specified cache directory.\n",
        "- If the same computation is needed again (e.g., during cross-validation), the cached results are used, significantly speeding up the process.\n",
        "\n",
        "**Main Args**:\n",
        "- `cachedir`: Directory where the cache is stored.\n",
        "- `verbose`: Level of verbosity for logging.\n",
        "\n",
        "**Example**:\n",
        "```python\n",
        "from joblib import Memory\n",
        "mem = Memory(cachedir='/path/to/cache', verbose=1)\n"
      ]
    },
    {
      "cell_type": "markdown",
      "metadata": {},
      "source": [
        "\n",
        "### Step 4: Pipeline Creation\n",
        "\n",
        "**Function**: `clf = Pipeline([(\"ward\", ward), (\"ridge\", ridge)])`\n",
        "\n",
        "**Purpose**: Combines feature agglomeration and ridge regression into a single pipeline.\n",
        "\n",
        "**Math**:\n",
        "- **Feature Transformation**: Applies hierarchical clustering to transform the features.\n",
        "- **Regression**: Performs ridge regression on the transformed feature space.\n",
        "\n",
        "**Main Args**:\n",
        "- `steps`: List of (name, transform) tuples that are chained together.\n",
        "\n",
        "**Explanation**:\n",
        "- The pipeline ensures that the feature transformation (agglomeration) and the regression model are applied sequentially in a streamlined manner. This simplifies the process of fitting and predicting with the combined model.\n"
      ]
    },
    {
      "cell_type": "code",
      "execution_count": 27,
      "metadata": {},
      "outputs": [
        {
          "data": {
            "text/plain": [
              "array([-120.37167244, -120.37167244, -120.37167244, ...,   75.3695938 ,\n",
              "         75.3695938 ,   75.3695938 ])"
            ]
          },
          "execution_count": 27,
          "metadata": {},
          "output_type": "execute_result"
        }
      ],
      "source": [
        "coef_ = clf.best_estimator_.steps[-1][1].coef_\n",
        "coef_.shape ## 20, so 20 clusters have been created, instaerd of the 16000 feature sinitially\n",
        "\n",
        "clf.best_estimator_.steps[0][1].inverse_transform(coef_)"
      ]
    },
    {
      "cell_type": "markdown",
      "metadata": {},
      "source": [
        "Anova univariate feature selection followed by BayesianRidge\n",
        "\n"
      ]
    },
    {
      "cell_type": "code",
      "execution_count": 28,
      "metadata": {
        "collapsed": false
      },
      "outputs": [
        {
          "name": "stdout",
          "output_type": "stream",
          "text": [
            "________________________________________________________________________________\n",
            "[Memory] Calling sklearn.feature_selection._univariate_selection.f_regression...\n",
            "f_regression(array([[-0.451933, ...,  0.275706],\n",
            "       ...,\n",
            "       [-0.675318, ..., -1.085711]]), \n",
            "array([ 25.267703, ..., -25.026711]))\n",
            "_____________________________________________________f_regression - 0.0s, 0.0min\n",
            "________________________________________________________________________________\n",
            "[Memory] Calling sklearn.feature_selection._univariate_selection.f_regression...\n",
            "f_regression(array([[ 0.905206, ..., -0.849835],\n",
            "       ...,\n",
            "       [ 0.161245, ..., -1.091621]]), \n",
            "array([ -27.447268, ..., -112.638768]))\n",
            "_____________________________________________________f_regression - 0.0s, 0.0min\n",
            "________________________________________________________________________________\n",
            "[Memory] Calling sklearn.feature_selection._univariate_selection.f_regression...\n",
            "f_regression(array([[ 0.905206, ..., -0.849835],\n",
            "       ...,\n",
            "       [-0.675318, ..., -1.085711]]), \n",
            "array([-27.447268, ..., -25.026711]))\n",
            "_____________________________________________________f_regression - 0.0s, 0.0min\n"
          ]
        }
      ],
      "source": [
        "f_regression = mem.cache(feature_selection.f_regression)  # caching function\n",
        "anova = feature_selection.SelectPercentile(f_regression)\n",
        "clf = Pipeline([(\"anova\", anova), (\"ridge\", ridge)])\n",
        "# Select the optimal percentage of features with grid search\n",
        "clf = GridSearchCV(clf, {\"anova__percentile\": [5, 10, 20]}, cv=cv)\n",
        "clf.fit(X, y)  # set the best parameters\n",
        "coef_ = clf.best_estimator_.steps[-1][1].coef_\n",
        "coef_ = clf.best_estimator_.steps[0][1].inverse_transform(coef_.reshape(1, -1))\n",
        "coef_selection_ = coef_.reshape(size, size)"
      ]
    },
    {
      "cell_type": "markdown",
      "metadata": {},
      "source": [
        "### Feature Selection Using ANOVA\n",
        "\n",
        "#### Overview\n",
        "\n",
        "Feature selection is a crucial step in the machine learning pipeline, where the goal is to select the most relevant features for building a predictive model. Here, we use the ANOVA F-test to select features based on their relationship with the target variable.\n",
        "\n",
        "#### Math Behind ANOVA F-Test\n",
        "\n",
        "- **ANOVA (Analysis of Variance)**: This statistical method assesses whether the means of different groups are significantly different from each other.\n",
        "- **F-Test**: In this context, the F-test compares the variance between the groups (explained variance) to the variance within the groups (unexplained variance).\n",
        "\n",
        "The F-value is calculated as:\n",
        "$\\ F = \\frac{\\text{variance between groups}}{\\text{variance within groups}} $\n",
        "\n",
        "For each feature:\n",
        "$\\ F_j = \\frac{\\sum_{k=1}^{K} n_k (\\bar{x}_{k,j} - \\bar{x}_j)^2}{\\sum_{k=1}^{K} \\sum_{i=1}^{n_k} (x_{i,j} - \\bar{x}_{k,j})^2} $\n",
        "\n",
        "Where:\n",
        "- $\\ K $ is the number of groups.\n",
        "- $\\ n_k $ is the number of samples in group $\\ k $.\n",
        "- $\\ \\bar{x}_{k,j} $ is the mean of feature $\\ j $ in group $\\ k $.\n",
        "- $\\ \\bar{x}_j $ is the overall mean of feature $\\ j $.\n",
        "- $\\ x_{i,j} $ is the value of feature $\\ j $ for sample $\\ i $.\n",
        "\n",
        "#### Intuition\n",
        "\n",
        "The intuition behind using the ANOVA F-test for feature selection is to determine which features have the strongest linear relationship with the target variable. Features with higher F-values are considered more important because they explain a larger proportion of the variance in the target variable.\n",
        "\n",
        "#### How It Selects Features\n",
        "\n",
        "- **Calculation of F-values**: For each feature, the F-value is computed as described above.\n",
        "- **Ranking**: Features are ranked based on their F-values.\n",
        "- **Selection**: A specified percentage of features with the highest F-values are selected. Features not selected are effectively reduced in importance, often set to zero or ignored in further modeling.\n",
        "\n",
        "#### Main Arguments\n",
        "\n",
        "- `score_func`: The scoring function used to evaluate the features. For ANOVA F-test, this is typically `feature_selection.f_regression`. It calculates the F-statistic for each feature based on a simple linear regression model.\n",
        "- `percentile`: The percentage of top features to retain. For example, if `percentile=10`, only the top 10% of features based on their F-values will be selected.\n",
        "\n",
        "#### Advantages\n",
        "\n",
        "- **Simplicity**: The ANOVA F-test is easy to compute and understand.\n",
        "- **Efficiency**: It is computationally efficient, making it suitable for high-dimensional data.\n",
        "- **Relevance**: By selecting features based on their statistical significance, we can improve the performance of the model by focusing on the most informative features.\n",
        "\n",
        "#### Disadvantages\n",
        "\n",
        "- **Univariate**: ANOVA F-test considers each feature independently, ignoring potential interactions between features.\n",
        "- **Linear Assumption**: Assumes a linear relationship between each feature and the target variable, which may not always hold true in practice.\n"
      ]
    },
    {
      "cell_type": "code",
      "execution_count": 32,
      "metadata": {},
      "outputs": [
        {
          "data": {
            "text/plain": [
              "array([[-2.01025718,  0.        ,  0.        , ...,  0.        ,\n",
              "         0.        ,  0.        ],\n",
              "       [-1.29924318, -1.46482568,  0.        , ...,  0.        ,\n",
              "         0.        ,  0.        ],\n",
              "       [-1.24701165, -2.0628664 , -1.68655819, ...,  0.        ,\n",
              "         0.        ,  0.        ],\n",
              "       ...,\n",
              "       [ 0.        ,  0.        ,  0.        , ...,  0.        ,\n",
              "         0.        ,  0.        ],\n",
              "       [ 0.        ,  0.        ,  0.        , ...,  0.        ,\n",
              "         0.        ,  0.        ],\n",
              "       [ 0.        ,  0.        ,  0.        , ...,  0.        ,\n",
              "         0.        ,  0.        ]])"
            ]
          },
          "execution_count": 32,
          "metadata": {},
          "output_type": "execute_result"
        }
      ],
      "source": [
        "coef_selection_  ### on voit bien la sparsité"
      ]
    },
    {
      "cell_type": "markdown",
      "metadata": {},
      "source": [
        "Inverse the transformation to plot the results on an image\n",
        "\n"
      ]
    },
    {
      "cell_type": "code",
      "execution_count": 29,
      "metadata": {
        "collapsed": false
      },
      "outputs": [
        {
          "data": {
            "image/png": "[encoded data removed]",
            "text/plain": [
              "<Figure size 730x270 with 3 Axes>"
            ]
          },
          "metadata": {},
          "output_type": "display_data"
        }
      ],
      "source": [
        "plt.close(\"all\")\n",
        "plt.figure(figsize=(7.3, 2.7))\n",
        "plt.subplot(1, 3, 1)\n",
        "plt.imshow(coef, interpolation=\"nearest\", cmap=plt.cm.RdBu_r)\n",
        "plt.title(\"True weights\")\n",
        "plt.subplot(1, 3, 2)\n",
        "plt.imshow(coef_selection_, interpolation=\"nearest\", cmap=plt.cm.RdBu_r)\n",
        "plt.title(\"Feature Selection\")\n",
        "plt.subplot(1, 3, 3)\n",
        "plt.imshow(coef_agglomeration_, interpolation=\"nearest\", cmap=plt.cm.RdBu_r)\n",
        "plt.title(\"Feature Agglomeration\")\n",
        "plt.subplots_adjust(0.04, 0.0, 0.98, 0.94, 0.16, 0.26)\n",
        "plt.show()"
      ]
    },
    {
      "cell_type": "markdown",
      "metadata": {},
      "source": [
        "on voit bienq ue en faisant de la feature agglomeration on a plus que 10 clusters de features au lieu des tonnes sur juste un Feature selection"
      ]
    },
    {
      "cell_type": "markdown",
      "metadata": {},
      "source": [
        "Attempt to remove the temporary cachedir, but don't worry if it fails\n",
        "\n"
      ]
    },
    {
      "cell_type": "code",
      "execution_count": 30,
      "metadata": {
        "collapsed": false
      },
      "outputs": [],
      "source": [
        "shutil.rmtree(cachedir, ignore_errors=True)"
      ]
    },
    {
      "cell_type": "code",
      "execution_count": null,
      "metadata": {},
      "outputs": [],
      "source": []
    }
  ],
  "metadata": {
    "kernelspec": {
      "display_name": "Python 3",
      "language": "python",
      "name": "python3"
    },
    "language_info": {
      "codemirror_mode": {
        "name": "ipython",
        "version": 3
      },
      "file_extension": ".py",
      "mimetype": "text/x-python",
      "name": "python",
      "nbconvert_exporter": "python",
      "pygments_lexer": "ipython3",
      "version": "3.11.5"
    }
  },
  "nbformat": 4,
  "nbformat_minor": 0
}
