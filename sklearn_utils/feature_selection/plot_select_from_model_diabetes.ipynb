{
  "cells": [
    {
      "cell_type": "markdown",
      "metadata": {},
      "source": [
        "\n",
        "# Model-based and sequential feature selection\n",
        "\n",
        "This example illustrates and compares two approaches for feature selection:\n",
        ":class:`~sklearn.feature_selection.SelectFromModel` which is based on feature\n",
        "importance, and\n",
        ":class:`~sklearn.feature_selection.SequentialFeatureSelector` which relies\n",
        "on a greedy approach.\n",
        "\n",
        "We use the Diabetes dataset, which consists of 10 features collected from 442\n",
        "diabetes patients.\n",
        "\n",
        "Authors: [Manoj Kumar](mks542@nyu.edu),\n",
        "[Maria Telenczuk](https://github.com/maikia), Nicolas Hug.\n",
        "\n",
        "License: BSD 3 clause\n"
      ]
    },
    {
      "cell_type": "markdown",
      "metadata": {},
      "source": [
        "## Loading the data\n",
        "\n",
        "We first load the diabetes dataset which is available from within\n",
        "scikit-learn, and print its description:\n",
        "\n"
      ]
    },
    {
      "cell_type": "code",
      "execution_count": 8,
      "metadata": {
        "collapsed": false
      },
      "outputs": [
        {
          "name": "stdout",
          "output_type": "stream",
          "text": [
            ".. _diabetes_dataset:\n",
            "\n",
            "Diabetes dataset\n",
            "----------------\n",
            "\n",
            "Ten baseline variables, age, sex, body mass index, average blood\n",
            "pressure, and six blood serum measurements were obtained for each of n =\n",
            "442 diabetes patients, as well as the response of interest, a\n",
            "quantitative measure of disease progression one year after baseline.\n",
            "\n",
            "**Data Set Characteristics:**\n",
            "\n",
            "  :Number of Instances: 442\n",
            "\n",
            "  :Number of Attributes: First 10 columns are numeric predictive values\n",
            "\n",
            "  :Target: Column 11 is a quantitative measure of disease progression one year after baseline\n",
            "\n",
            "  :Attribute Information:\n",
            "      - age     age in years\n",
            "      - sex\n",
            "      - bmi     body mass index\n",
            "      - bp      average blood pressure\n",
            "      - s1      tc, total serum cholesterol\n",
            "      - s2      ldl, low-density lipoproteins\n",
            "      - s3      hdl, high-density lipoproteins\n",
            "      - s4      tch, total cholesterol / HDL\n",
            "      - s5      ltg, possibly log of serum triglycerides level\n",
            "      - s6      glu, blood sugar level\n",
            "\n",
            "Note: Each of these 10 feature variables have been mean centered and scaled by the standard deviation times the square root of `n_samples` (i.e. the sum of squares of each column totals 1).\n",
            "\n",
            "Source URL:\n",
            "https://www4.stat.ncsu.edu/~boos/var.select/diabetes.html\n",
            "\n",
            "For more information see:\n",
            "Bradley Efron, Trevor Hastie, Iain Johnstone and Robert Tibshirani (2004) \"Least Angle Regression,\" Annals of Statistics (with discussion), 407-499.\n",
            "(https://web.stanford.edu/~hastie/Papers/LARS/LeastAngle_2002.pdf)\n",
            "\n"
          ]
        }
      ],
      "source": [
        "from sklearn.datasets import load_diabetes\n",
        "\n",
        "diabetes = load_diabetes()\n",
        "X, y = diabetes.data, diabetes.target\n",
        "print(diabetes.DESCR)"
      ]
    },
    {
      "cell_type": "markdown",
      "metadata": {},
      "source": [
        "## Feature importance from coefficients\n",
        "\n",
        "To get an idea of the importance of the features, we are going to use the\n",
        ":class:`~sklearn.linear_model.RidgeCV` estimator. The features with the\n",
        "highest absolute `coef_` value are considered the most important.\n",
        "We can observe the coefficients directly without needing to scale them (or\n",
        "scale the data) because from the description above, we know that the features\n",
        "were already standardized.\n",
        "For a more complete example on the interpretations of the coefficients of\n",
        "linear models, you may refer to\n",
        "`sphx_glr_auto_examples_inspection_plot_linear_model_coefficient_interpretation.py`.  # noqa: E501\n",
        "\n"
      ]
    },
    {
      "cell_type": "code",
      "execution_count": 9,
      "metadata": {
        "collapsed": false
      },
      "outputs": [
        {
          "data": {
            "image/png": "[encoded data removed]",
            "text/plain": [
              "<Figure size 640x480 with 1 Axes>"
            ]
          },
          "metadata": {},
          "output_type": "display_data"
        }
      ],
      "source": [
        "import matplotlib.pyplot as plt\n",
        "import numpy as np\n",
        "\n",
        "from sklearn.linear_model import RidgeCV\n",
        "\n",
        "ridge = RidgeCV(alphas=np.logspace(-6, 6, num=5)).fit(X, y)\n",
        "importance = np.abs(ridge.coef_)\n",
        "feature_names = np.array(diabetes.feature_names)\n",
        "plt.bar(height=importance, x=feature_names)\n",
        "plt.title(\"Feature importances via coefficients\")\n",
        "plt.show()"
      ]
    },
    {
      "cell_type": "markdown",
      "metadata": {},
      "source": [
        "## Selecting features based on importance\n",
        "\n",
        "Now we want to select the two features which are the most important according\n",
        "to the coefficients. The :class:`~sklearn.feature_selection.SelectFromModel`\n",
        "is meant just for that. :class:`~sklearn.feature_selection.SelectFromModel`\n",
        "accepts a `threshold` parameter and will select the features whose importance\n",
        "(defined by the coefficients) are above this threshold.\n",
        "\n",
        "Since we want to select only 2 features, we will set this threshold slightly\n",
        "above the coefficient of third most important feature.\n",
        "\n"
      ]
    },
    {
      "cell_type": "markdown",
      "metadata": {},
      "source": [
        "### Explanation of `SelectFromModel` in scikit-learn\n",
        "\n",
        "The `SelectFromModel` class in `scikit-learn` is a meta-transformer that uses the importance weights of an estimator to select features based on a specified threshold.\n",
        "\n",
        "#### Purpose\n",
        "\n",
        "The main goal of `SelectFromModel` is to select features that are considered important by a pre-trained model, thereby reducing the dimensionality of the dataset while retaining the most informative features.\n",
        "\n",
        "#### Process\n",
        "\n",
        "1. **Train an Estimator**:\n",
        "   - First, an estimator is trained on the dataset. In the provided example, a `RidgeCV` estimator is used:\n",
        "     ```python\n",
        "     ridge = RidgeCV(alphas=np.logspace(-6, 6, num=5)).fit(X, y)\n",
        "     ```\n",
        "\n",
        "2. **Compute Feature Importance**:\n",
        "   - The importance of each feature is derived from the trained estimator. For linear models like `RidgeCV`, the importance is typically based on the absolute values of the coefficients:\n",
        "     $$ \\text{importance} = |\\beta_i| $$\n",
        "     where $\\beta_i$ are the coefficients of the linear model.\n",
        "\n",
        "3. **Set Threshold**:\n",
        "   - A threshold is set to determine which features are considered important. In the example:\n",
        "     ```python\n",
        "     threshold = np.sort(importance)[-3] + 0.01\n",
        "     ```\n",
        "     This sets the threshold slightly above the third highest importance score, ensuring that only the top 3 features are selected.\n",
        "\n",
        "4. **Feature Selection**:\n",
        "   - `SelectFromModel` uses the pre-trained estimator and the threshold to select features:\n",
        "     ```python\n",
        "     sfm = SelectFromModel(ridge, threshold=threshold).fit(X, y)\n",
        "     ```\n",
        "     Features with importance scores above the threshold are retained.\n",
        "\n",
        "#### Mathematical Foundation\n",
        "\n",
        "- **Importance Calculation**:\n",
        "  For linear models, feature importance can be directly obtained from the model's coefficients. For tree-based models, feature importance is derived from the reduction in impurity (e.g., Gini impurity or entropy).\n",
        "\n",
        "- **Thresholding**:\n",
        "  The thresholding process involves comparing each feature's importance score against the specified threshold:\n",
        "  $$ \\text{Selected Features} = \\{X_i \\,|\\, |\\beta_i| > \\text{threshold} \\} $$\n",
        "\n",
        "#### Main Arguments\n",
        "\n",
        "- `estimator`: The pre-trained model that provides the feature importance scores.\n",
        "- `threshold`: The threshold value for feature importance. Features with importance scores above this value are selected. It can be a numeric value or a string (e.g., \"mean\", \"median\").\n",
        "\n",
        "#### Interpretation of Results\n",
        "\n",
        "- `get_support()`: Returns a boolean mask indicating which features are selected.\n",
        "- `transform(X)`: Reduces the dataset to the selected features.\n",
        "- The selected features are those deemed most important by the estimator based on the specified threshold.\n",
        "\n"
      ]
    },
    {
      "cell_type": "code",
      "execution_count": 10,
      "metadata": {
        "collapsed": false
      },
      "outputs": [
        {
          "name": "stdout",
          "output_type": "stream",
          "text": [
            "Features selected by SelectFromModel: ['s1' 's5']\n",
            "Done in 0.003s\n"
          ]
        }
      ],
      "source": [
        "from time import time\n",
        "\n",
        "from sklearn.feature_selection import SelectFromModel\n",
        "\n",
        "threshold = np.sort(importance)[-3] + 0.01\n",
        "\n",
        "tic = time()\n",
        "sfm = SelectFromModel(ridge, threshold=threshold).fit(X, y)\n",
        "toc = time()\n",
        "print(f\"Features selected by SelectFromModel: {feature_names[sfm.get_support()]}\")\n",
        "print(f\"Done in {toc - tic:.3f}s\")"
      ]
    },
    {
      "cell_type": "markdown",
      "metadata": {},
      "source": [
        "## Selecting features with Sequential Feature Selection\n",
        "\n",
        "Another way of selecting features is to use\n",
        ":class:`~sklearn.feature_selection.SequentialFeatureSelector`\n",
        "(SFS). SFS is a greedy procedure where, at each iteration, we choose the best\n",
        "new feature to add to our selected features based a cross-validation score.\n",
        "That is, we start with 0 features and choose the best single feature with the\n",
        "highest score. The procedure is repeated until we reach the desired number of\n",
        "selected features.\n",
        "\n",
        "We can also go in the reverse direction (backward SFS), *i.e.* start with all\n",
        "the features and greedily choose features to remove one by one. We illustrate\n",
        "both approaches here.\n",
        "\n"
      ]
    },
    {
      "cell_type": "markdown",
      "metadata": {},
      "source": [
        "### Explanation of Forward Sequential Feature Selector\n",
        "\n",
        "The `SequentialFeatureSelector` class in `scikit-learn` is a wrapper feature selection method that selects features sequentially based on their contribution to the model's performance. There are two main strategies: forward selection and backward selection. Here, we focus on forward sequential selection.\n",
        "\n",
        "#### Forward Sequential Selection Process\n",
        "\n",
        "1. **Initialization**:\n",
        "   - Start with an empty set of selected features.\n",
        "\n",
        "2. **Iteration**:\n",
        "   - At each iteration, evaluate each feature not yet selected by adding it to the set of selected features and training the model.\n",
        "   - Compute the performance metric for each model with the added feature.\n",
        "\n",
        "3. **Selection**:\n",
        "   - Select the feature that results in the best performance improvement and add it to the set of selected features.\n",
        "\n",
        "4. **Repeat**:\n",
        "   - Repeat the process until the desired number of features is selected.\n",
        "\n",
        "#### Mathematical Computation\n",
        "\n",
        "For each iteration:\n",
        "1. **Model Training**:\n",
        "   - Train the model using the current set of selected features plus one additional feature.\n",
        "   \n",
        "2. **Performance Evaluation**:\n",
        "   - Compute the performance metric (e.g., mean squared error for regression, accuracy for classification) for each model.\n",
        "   - For `RidgeCV`, this involves minimizing the cross-validated mean squared error:\n",
        "     $$ \\text{MSE} = \\frac{1}{n} \\sum_{i=1}^{n} (y_i - \\hat{y}_i)^2 $$\n",
        "   - The feature that results in the lowest MSE is selected.\n",
        "\n",
        "3. **Feature Addition**:\n",
        "   - Add the best-performing feature to the set of selected features.\n",
        "\n",
        "#### Main Arguments\n",
        "\n",
        "- `estimator`: The model used to evaluate the feature sets. In this case, `RidgeCV` is used.\n",
        "- `n_features_to_select`: The number of features to select. Here, it is set to 2.\n",
        "- `direction`: The direction of the selection process. For forward selection, it is `\"forward\"`. For backward selection, it is `\"backward\"`.\n"
      ]
    },
    {
      "cell_type": "code",
      "execution_count": 11,
      "metadata": {
        "collapsed": false
      },
      "outputs": [
        {
          "name": "stdout",
          "output_type": "stream",
          "text": [
            "Features selected by forward sequential selection: ['bmi' 's5']\n",
            "Done in 0.141s\n",
            "Features selected by backward sequential selection: ['bmi' 's5']\n",
            "Done in 0.372s\n"
          ]
        }
      ],
      "source": [
        "from sklearn.feature_selection import SequentialFeatureSelector\n",
        "\n",
        "tic_fwd = time()\n",
        "sfs_forward = SequentialFeatureSelector(\n",
        "    ridge, n_features_to_select=2, direction=\"forward\"\n",
        ").fit(X, y)\n",
        "toc_fwd = time()\n",
        "\n",
        "tic_bwd = time()\n",
        "sfs_backward = SequentialFeatureSelector(\n",
        "    ridge, n_features_to_select=2, direction=\"backward\"\n",
        ").fit(X, y)\n",
        "toc_bwd = time()\n",
        "\n",
        "print(\n",
        "    \"Features selected by forward sequential selection: \"\n",
        "    f\"{feature_names[sfs_forward.get_support()]}\"\n",
        ")\n",
        "print(f\"Done in {toc_fwd - tic_fwd:.3f}s\")\n",
        "print(\n",
        "    \"Features selected by backward sequential selection: \"\n",
        "    f\"{feature_names[sfs_backward.get_support()]}\"\n",
        ")\n",
        "print(f\"Done in {toc_bwd - tic_bwd:.3f}s\")"
      ]
    },
    {
      "cell_type": "markdown",
      "metadata": {},
      "source": [
        "Interestingly, forward and backward selection have selected the same set of\n",
        "features. In general, this isn't the case and the two methods would lead to\n",
        "different results.\n",
        "\n",
        "We also note that the features selected by SFS differ from those selected by\n",
        "feature importance: SFS selects `bmi` instead of `s1`. This does sound\n",
        "reasonable though, since `bmi` corresponds to the third most important\n",
        "feature according to the coefficients. It is quite remarkable considering\n",
        "that SFS makes no use of the coefficients at all.\n",
        "\n",
        "To finish with, we should note that\n",
        ":class:`~sklearn.feature_selection.SelectFromModel` is significantly faster\n",
        "than SFS. Indeed, :class:`~sklearn.feature_selection.SelectFromModel` only\n",
        "needs to fit a model once, while SFS needs to cross-validate many different\n",
        "models for each of the iterations. SFS however works with any model, while\n",
        ":class:`~sklearn.feature_selection.SelectFromModel` requires the underlying\n",
        "estimator to expose a `coef_` attribute or a `feature_importances_`\n",
        "attribute. The forward SFS is faster than the backward SFS because it only\n",
        "needs to perform `n_features_to_select = 2` iterations, while the backward\n",
        "SFS needs to perform `n_features - n_features_to_select = 8` iterations.\n",
        "\n",
        "## Using negative tolerance values\n",
        "\n",
        ":class:`~sklearn.feature_selection.SequentialFeatureSelector` can be used\n",
        "to remove features present in the dataset and return a\n",
        "smaller subset of the original features with `direction=\"backward\"`\n",
        "and a negative value of `tol`.\n",
        "\n",
        "We begin by loading the Breast Cancer dataset, consisting of 30 different\n",
        "features and 569 samples.\n",
        "\n"
      ]
    },
    {
      "cell_type": "code",
      "execution_count": 12,
      "metadata": {
        "collapsed": false
      },
      "outputs": [
        {
          "name": "stdout",
          "output_type": "stream",
          "text": [
            ".. _breast_cancer_dataset:\n",
            "\n",
            "Breast cancer wisconsin (diagnostic) dataset\n",
            "--------------------------------------------\n",
            "\n",
            "**Data Set Characteristics:**\n",
            "\n",
            "    :Number of Instances: 569\n",
            "\n",
            "    :Number of Attributes: 30 numeric, predictive attributes and the class\n",
            "\n",
            "    :Attribute Information:\n",
            "        - radius (mean of distances from center to points on the perimeter)\n",
            "        - texture (standard deviation of gray-scale values)\n",
            "        - perimeter\n",
            "        - area\n",
            "        - smoothness (local variation in radius lengths)\n",
            "        - compactness (perimeter^2 / area - 1.0)\n",
            "        - concavity (severity of concave portions of the contour)\n",
            "        - concave points (number of concave portions of the contour)\n",
            "        - symmetry\n",
            "        - fractal dimension (\"coastline approximation\" - 1)\n",
            "\n",
            "        The mean, standard error, and \"worst\" or largest (mean of the three\n",
            "        worst/largest values) of these features were computed for each image,\n",
            "        resulting in 30 features.  For instance, field 0 is Mean Radius, field\n",
            "        10 is Radius SE, field 20 is Worst Radius.\n",
            "\n",
            "        - class:\n",
            "                - WDBC-Malignant\n",
            "                - WDBC-Benign\n",
            "\n",
            "    :Summary Statistics:\n",
            "\n",
            "    ===================================== ====== ======\n",
            "                                           Min    Max\n",
            "    ===================================== ====== ======\n",
            "    radius (mean):                        6.981  28.11\n",
            "    texture (mean):                       9.71   39.28\n",
            "    perimeter (mean):                     43.79  188.5\n",
            "    area (mean):                          143.5  2501.0\n",
            "    smoothness (mean):                    0.053  0.163\n",
            "    compactness (mean):                   0.019  0.345\n",
            "    concavity (mean):                     0.0    0.427\n",
            "    concave points (mean):                0.0    0.201\n",
            "    symmetry (mean):                      0.106  0.304\n",
            "    fractal dimension (mean):             0.05   0.097\n",
            "    radius (standard error):              0.112  2.873\n",
            "    texture (standard error):             0.36   4.885\n",
            "    perimeter (standard error):           0.757  21.98\n",
            "    area (standard error):                6.802  542.2\n",
            "    smoothness (standard error):          0.002  0.031\n",
            "    compactness (standard error):         0.002  0.135\n",
            "    concavity (standard error):           0.0    0.396\n",
            "    concave points (standard error):      0.0    0.053\n",
            "    symmetry (standard error):            0.008  0.079\n",
            "    fractal dimension (standard error):   0.001  0.03\n",
            "    radius (worst):                       7.93   36.04\n",
            "    texture (worst):                      12.02  49.54\n",
            "    perimeter (worst):                    50.41  251.2\n",
            "    area (worst):                         185.2  4254.0\n",
            "    smoothness (worst):                   0.071  0.223\n",
            "    compactness (worst):                  0.027  1.058\n",
            "    concavity (worst):                    0.0    1.252\n",
            "    concave points (worst):               0.0    0.291\n",
            "    symmetry (worst):                     0.156  0.664\n",
            "    fractal dimension (worst):            0.055  0.208\n",
            "    ===================================== ====== ======\n",
            "\n",
            "    :Missing Attribute Values: None\n",
            "\n",
            "    :Class Distribution: 212 - Malignant, 357 - Benign\n",
            "\n",
            "    :Creator:  Dr. William H. Wolberg, W. Nick Street, Olvi L. Mangasarian\n",
            "\n",
            "    :Donor: Nick Street\n",
            "\n",
            "    :Date: November, 1995\n",
            "\n",
            "This is a copy of UCI ML Breast Cancer Wisconsin (Diagnostic) datasets.\n",
            "https://goo.gl/U2Uwz2\n",
            "\n",
            "Features are computed from a digitized image of a fine needle\n",
            "aspirate (FNA) of a breast mass.  They describe\n",
            "characteristics of the cell nuclei present in the image.\n",
            "\n",
            "Separating plane described above was obtained using\n",
            "Multisurface Method-Tree (MSM-T) [K. P. Bennett, \"Decision Tree\n",
            "Construction Via Linear Programming.\" Proceedings of the 4th\n",
            "Midwest Artificial Intelligence and Cognitive Science Society,\n",
            "pp. 97-101, 1992], a classification method which uses linear\n",
            "programming to construct a decision tree.  Relevant features\n",
            "were selected using an exhaustive search in the space of 1-4\n",
            "features and 1-3 separating planes.\n",
            "\n",
            "The actual linear program used to obtain the separating plane\n",
            "in the 3-dimensional space is that described in:\n",
            "[K. P. Bennett and O. L. Mangasarian: \"Robust Linear\n",
            "Programming Discrimination of Two Linearly Inseparable Sets\",\n",
            "Optimization Methods and Software 1, 1992, 23-34].\n",
            "\n",
            "This database is also available through the UW CS ftp server:\n",
            "\n",
            "ftp ftp.cs.wisc.edu\n",
            "cd math-prog/cpo-dataset/machine-learn/WDBC/\n",
            "\n",
            "|details-start|\n",
            "**References**\n",
            "|details-split|\n",
            "\n",
            "- W.N. Street, W.H. Wolberg and O.L. Mangasarian. Nuclear feature extraction \n",
            "  for breast tumor diagnosis. IS&T/SPIE 1993 International Symposium on \n",
            "  Electronic Imaging: Science and Technology, volume 1905, pages 861-870,\n",
            "  San Jose, CA, 1993.\n",
            "- O.L. Mangasarian, W.N. Street and W.H. Wolberg. Breast cancer diagnosis and \n",
            "  prognosis via linear programming. Operations Research, 43(4), pages 570-577, \n",
            "  July-August 1995.\n",
            "- W.H. Wolberg, W.N. Street, and O.L. Mangasarian. Machine learning techniques\n",
            "  to diagnose breast cancer from fine-needle aspirates. Cancer Letters 77 (1994) \n",
            "  163-171.\n",
            "\n",
            "|details-end|\n"
          ]
        }
      ],
      "source": [
        "import numpy as np\n",
        "\n",
        "from sklearn.datasets import load_breast_cancer\n",
        "\n",
        "breast_cancer_data = load_breast_cancer()\n",
        "X, y = breast_cancer_data.data, breast_cancer_data.target\n",
        "feature_names = np.array(breast_cancer_data.feature_names)\n",
        "print(breast_cancer_data.DESCR)"
      ]
    },
    {
      "cell_type": "markdown",
      "metadata": {},
      "source": [
        "We will make use of the :class:`~sklearn.linear_model.LogisticRegression`\n",
        "estimator with :class:`~sklearn.feature_selection.SequentialFeatureSelector`\n",
        "to perform the feature selection.\n",
        "\n"
      ]
    },
    {
      "cell_type": "code",
      "execution_count": 13,
      "metadata": {
        "collapsed": false
      },
      "outputs": [
        {
          "name": "stdout",
          "output_type": "stream",
          "text": [
            "\n",
            "tol: -0.01\n",
            "Features selected: ['worst perimeter']\n",
            "ROC AUC score: 0.975\n",
            "Done in 16.131s\n"
          ]
        }
      ],
      "source": [
        "from sklearn.linear_model import LogisticRegression\n",
        "from sklearn.metrics import roc_auc_score\n",
        "from sklearn.pipeline import make_pipeline\n",
        "from sklearn.preprocessing import StandardScaler\n",
        "\n",
        "for tol in [-1e-2, -1e-3, -1e-4]:\n",
        "    start = time()\n",
        "    feature_selector = SequentialFeatureSelector(\n",
        "        LogisticRegression(),\n",
        "        n_features_to_select=\"auto\",\n",
        "        direction=\"backward\",\n",
        "        scoring=\"roc_auc\",\n",
        "        tol=tol,\n",
        "        n_jobs=2,\n",
        "    )\n",
        "    model = make_pipeline(StandardScaler(), feature_selector, LogisticRegression())\n",
        "    model.fit(X, y)\n",
        "    end = time()\n",
        "    print(f\"\\ntol: {tol}\")\n",
        "    print(f\"Features selected: {feature_names[model[1].get_support()]}\")\n",
        "    print(f\"ROC AUC score: {roc_auc_score(y, model.predict_proba(X)[:, 1]):.3f}\")\n",
        "    print(f\"Done in {end - start:.3f}s\")"
      ]
    },
    {
      "cell_type": "markdown",
      "metadata": {},
      "source": [
        "We can see that the number of features selected tend to increase as negative\n",
        "values of `tol` approach to zero. The time taken for feature selection also\n",
        "decreases as the values of `tol` come closer to zero.\n",
        "\n"
      ]
    }
  ],
  "metadata": {
    "kernelspec": {
      "display_name": "Python 3",
      "language": "python",
      "name": "python3"
    },
    "language_info": {
      "codemirror_mode": {
        "name": "ipython",
        "version": 3
      },
      "file_extension": ".py",
      "mimetype": "text/x-python",
      "name": "python",
      "nbconvert_exporter": "python",
      "pygments_lexer": "ipython3",
      "version": "3.11.5"
    }
  },
  "nbformat": 4,
  "nbformat_minor": 0
}
