{
  "cells": [
    {
      "cell_type": "markdown",
      "metadata": {},
      "source": [
        "\n",
        "# Lasso model selection via information criteria\n",
        "\n",
        "This example reproduces the example of Fig. 2 of [ZHT2007]_. A\n",
        ":class:`~sklearn.linear_model.LassoLarsIC` estimator is fit on a\n",
        "diabetes dataset and the AIC and the BIC criteria are used to select\n",
        "the best model.\n",
        "\n",
        "<div class=\"alert alert-info\"><h4>Note</h4><p>It is important to note that the optimization to find `alpha` with\n",
        "    :class:`~sklearn.linear_model.LassoLarsIC` relies on the AIC or BIC\n",
        "    criteria that are computed in-sample, thus on the training set directly.\n",
        "    This approach differs from the cross-validation procedure. For a comparison\n",
        "    of the two approaches, you can refer to the following example:\n",
        "    `sphx_glr_auto_examples_linear_model_plot_lasso_model_selection.py`.</p></div>\n",
        "\n",
        ".. rubric:: References\n",
        "\n",
        ".. [ZHT2007] :arxiv:`Zou, Hui, Trevor Hastie, and Robert Tibshirani.\n",
        "    \"On the degrees of freedom of the lasso.\"\n",
        "    The Annals of Statistics 35.5 (2007): 2173-2192.\n",
        "    <0712.0881>`\n"
      ]
    },
    {
      "cell_type": "code",
      "execution_count": 1,
      "metadata": {
        "collapsed": false
      },
      "outputs": [],
      "source": [
        "# Author: Alexandre Gramfort\n",
        "#         Guillaume Lemaitre\n",
        "# License: BSD 3 clause"
      ]
    },
    {
      "cell_type": "markdown",
      "metadata": {},
      "source": [
        "We will use the diabetes dataset.\n",
        "\n"
      ]
    },
    {
      "cell_type": "code",
      "execution_count": 2,
      "metadata": {
        "collapsed": false
      },
      "outputs": [
        {
          "data": {
            "text/html": [
              "<div>\n",
              "<style scoped>\n",
              "    .dataframe tbody tr th:only-of-type {\n",
              "        vertical-align: middle;\n",
              "    }\n",
              "\n",
              "    .dataframe tbody tr th {\n",
              "        vertical-align: top;\n",
              "    }\n",
              "\n",
              "    .dataframe thead th {\n",
              "        text-align: right;\n",
              "    }\n",
              "</style>\n",
              "<table border=\"1\" class=\"dataframe\">\n",
              "  <thead>\n",
              "    <tr style=\"text-align: right;\">\n",
              "      <th></th>\n",
              "      <th>age</th>\n",
              "      <th>sex</th>\n",
              "      <th>bmi</th>\n",
              "      <th>bp</th>\n",
              "      <th>s1</th>\n",
              "      <th>s2</th>\n",
              "      <th>s3</th>\n",
              "      <th>s4</th>\n",
              "      <th>s5</th>\n",
              "      <th>s6</th>\n",
              "    </tr>\n",
              "  </thead>\n",
              "  <tbody>\n",
              "    <tr>\n",
              "      <th>0</th>\n",
              "      <td>0.038076</td>\n",
              "      <td>0.050680</td>\n",
              "      <td>0.061696</td>\n",
              "      <td>0.021872</td>\n",
              "      <td>-0.044223</td>\n",
              "      <td>-0.034821</td>\n",
              "      <td>-0.043401</td>\n",
              "      <td>-0.002592</td>\n",
              "      <td>0.019907</td>\n",
              "      <td>-0.017646</td>\n",
              "    </tr>\n",
              "    <tr>\n",
              "      <th>1</th>\n",
              "      <td>-0.001882</td>\n",
              "      <td>-0.044642</td>\n",
              "      <td>-0.051474</td>\n",
              "      <td>-0.026328</td>\n",
              "      <td>-0.008449</td>\n",
              "      <td>-0.019163</td>\n",
              "      <td>0.074412</td>\n",
              "      <td>-0.039493</td>\n",
              "      <td>-0.068332</td>\n",
              "      <td>-0.092204</td>\n",
              "    </tr>\n",
              "    <tr>\n",
              "      <th>2</th>\n",
              "      <td>0.085299</td>\n",
              "      <td>0.050680</td>\n",
              "      <td>0.044451</td>\n",
              "      <td>-0.005670</td>\n",
              "      <td>-0.045599</td>\n",
              "      <td>-0.034194</td>\n",
              "      <td>-0.032356</td>\n",
              "      <td>-0.002592</td>\n",
              "      <td>0.002861</td>\n",
              "      <td>-0.025930</td>\n",
              "    </tr>\n",
              "    <tr>\n",
              "      <th>3</th>\n",
              "      <td>-0.089063</td>\n",
              "      <td>-0.044642</td>\n",
              "      <td>-0.011595</td>\n",
              "      <td>-0.036656</td>\n",
              "      <td>0.012191</td>\n",
              "      <td>0.024991</td>\n",
              "      <td>-0.036038</td>\n",
              "      <td>0.034309</td>\n",
              "      <td>0.022688</td>\n",
              "      <td>-0.009362</td>\n",
              "    </tr>\n",
              "    <tr>\n",
              "      <th>4</th>\n",
              "      <td>0.005383</td>\n",
              "      <td>-0.044642</td>\n",
              "      <td>-0.036385</td>\n",
              "      <td>0.021872</td>\n",
              "      <td>0.003935</td>\n",
              "      <td>0.015596</td>\n",
              "      <td>0.008142</td>\n",
              "      <td>-0.002592</td>\n",
              "      <td>-0.031988</td>\n",
              "      <td>-0.046641</td>\n",
              "    </tr>\n",
              "  </tbody>\n",
              "</table>\n",
              "</div>"
            ],
            "text/plain": [
              "        age       sex       bmi        bp        s1        s2        s3  \\\n",
              "0  0.038076  0.050680  0.061696  0.021872 -0.044223 -0.034821 -0.043401   \n",
              "1 -0.001882 -0.044642 -0.051474 -0.026328 -0.008449 -0.019163  0.074412   \n",
              "2  0.085299  0.050680  0.044451 -0.005670 -0.045599 -0.034194 -0.032356   \n",
              "3 -0.089063 -0.044642 -0.011595 -0.036656  0.012191  0.024991 -0.036038   \n",
              "4  0.005383 -0.044642 -0.036385  0.021872  0.003935  0.015596  0.008142   \n",
              "\n",
              "         s4        s5        s6  \n",
              "0 -0.002592  0.019907 -0.017646  \n",
              "1 -0.039493 -0.068332 -0.092204  \n",
              "2 -0.002592  0.002861 -0.025930  \n",
              "3  0.034309  0.022688 -0.009362  \n",
              "4 -0.002592 -0.031988 -0.046641  "
            ]
          },
          "execution_count": 2,
          "metadata": {},
          "output_type": "execute_result"
        }
      ],
      "source": [
        "from sklearn.datasets import load_diabetes\n",
        "\n",
        "X, y = load_diabetes(return_X_y=True, as_frame=True)\n",
        "n_samples = X.shape[0]\n",
        "X.head()"
      ]
    },
    {
      "cell_type": "markdown",
      "metadata": {},
      "source": [
        "Scikit-learn provides an estimator called\n",
        ":class:`~sklearn.linear_model.LassoLarsIC` that uses either Akaike's\n",
        "information criterion (AIC) or the Bayesian information criterion (BIC) to\n",
        "select the best model. Before fitting\n",
        "this model, we will scale the dataset.\n",
        "\n",
        "In the following, we are going to fit two models to compare the values\n",
        "reported by AIC and BIC.\n",
        "\n"
      ]
    },
    {
      "cell_type": "code",
      "execution_count": 26,
      "metadata": {
        "collapsed": false
      },
      "outputs": [],
      "source": [
        "import numpy as np\n",
        "from sklearn.linear_model import LassoLarsIC\n",
        "from sklearn.pipeline import make_pipeline\n",
        "from sklearn.preprocessing import StandardScaler\n",
        "\n",
        "lasso_lars_ic = make_pipeline(StandardScaler(), LassoLarsIC(criterion=\"aic\")).fit(X, y)"
      ]
    },
    {
      "cell_type": "markdown",
      "metadata": {},
      "source": [
        "### Least Angle Regression (LARS)\n",
        "\n",
        "#### Concept\n",
        "\n",
        "Least Angle Regression (LARS) is a regression algorithm particularly well-suited for high-dimensional data, where the number of features exceeds or is comparable to the number of observations. LARS is a model selection method for linear regression that builds the model incrementally. It is closely related to forward stepwise regression and the Lasso method.\n",
        "\n",
        "LARS has a unique property: it is computationally efficient and can be used to produce the full piecewise linear solution path for various regression problems, including Lasso regression.\n",
        "\n",
        "#### Mathematical Background\n",
        "\n",
        "LARS constructs the solution path by iteratively adding predictors to the model. The key steps in the LARS algorithm are:\n",
        "\n",
        "1. **Initialization**:\n",
        "   - Start with all coefficients $\\ \\beta_j = 0$.\n",
        "   - Set the residuals to $\\  \\vec{r} = \\vec{y} - \\hat{\\vec{y}} $, where $\\  \\hat{\\vec{y}} $ is the current predicted value.\n",
        "\n",
        "2. **Identify the Most Correlated Predictor**:\n",
        "   - Compute the correlation of each predictor $\\  \\vec{x}_j $ with the current residuals $\\  \\vec{r} $.\n",
        "   - Select the predictor $\\  \\vec{x}_j $ with the highest absolute correlation.\n",
        "\n",
        "3. **Move Coefficients in the Direction of the Selected Predictor**:\n",
        "   - Move the coefficient $\\  \\beta_j $ of the selected predictor in the direction that reduces the residual sum of squares.\n",
        "   - The step size is chosen such that the correlation of the selected predictor with the residuals decreases at the same rate as the other predictors that are equally correlated with the residuals.\n",
        "\n",
        "4. **Equiangular Update**:\n",
        "   - Move in the direction of the selected predictor until another predictor has the same correlation with the current residuals.\n",
        "   - At each step, update the coefficients of the selected predictors equiangularly, meaning that the angles between the predictor vectors and the residual vector are equal.\n",
        "\n",
        "5. **Repeat Steps 2-4**:\n",
        "   - Continue this process until all predictors are in the model or the desired number of steps is reached.\n",
        "\n",
        "#### LARS and Lasso\n",
        "\n",
        "LARS can be modified to solve the Lasso problem by adding an extra step to truncate the coefficients at zero when their path crosses zero. This ensures that some coefficients are exactly zero, providing a sparse solution.\n",
        "\n",
        "#### LassoLars in Sklearn\n",
        "\n",
        "`LassoLars` is an implementation of the Lasso regression using the LARS algorithm in scikit-learn. It leverages the efficiency of LARS to solve the Lasso problem.\n",
        "\n",
        "#### Key Arguments\n",
        "\n",
        "- **alpha**: Regularization parameter. The default is 1.0. Smaller values lead to less regularization.\n",
        "- **fit_intercept**: Whether to calculate the intercept for this model. If set to False, no intercept will be used.\n",
        "- **verbose**: Controls the verbosity of the output.\n",
        "- **normalize**: Whether to normalize the predictors before regression.\n",
        "- **precompute**: Whether to use a precomputed Gram matrix to speed up computations.\n",
        "- **max_iter**: Maximum number of iterations.\n",
        "- **eps**: The machine-precision regularization in the computation.\n",
        "- **n_nonzero_coefs**: Target number of non-zero coefficients. If not None, overrides the alpha parameter.\n",
        "\n"
      ]
    },
    {
      "cell_type": "markdown",
      "metadata": {},
      "source": [
        "To be in line with the definition in [ZHT2007]_, we need to rescale the\n",
        "AIC and the BIC. Indeed, Zou et al. are ignoring some constant terms\n",
        "compared to the original definition of AIC derived from the maximum\n",
        "log-likelihood of a linear model. You can refer to\n",
        "`mathematical detail section for the User Guide <lasso_lars_ic>`.\n",
        "\n"
      ]
    },
    {
      "cell_type": "code",
      "execution_count": 27,
      "metadata": {
        "collapsed": false
      },
      "outputs": [],
      "source": [
        "def zou_et_al_criterion_rescaling(criterion, n_samples, noise_variance):\n",
        "    \"\"\"Rescale the information criterion to follow the definition of Zou et al.\"\"\"\n",
        "    return criterion - n_samples * np.log(2 * np.pi * noise_variance) - n_samples"
      ]
    },
    {
      "cell_type": "code",
      "execution_count": 22,
      "metadata": {
        "collapsed": false
      },
      "outputs": [],
      "source": [
        "import numpy as np\n",
        "\n",
        "aic_criterion = zou_et_al_criterion_rescaling(\n",
        "    lasso_lars_ic[-1].criterion_,\n",
        "    n_samples,\n",
        "    lasso_lars_ic[-1].noise_variance_,\n",
        ")\n",
        "\n",
        "index_alpha_path_aic = np.flatnonzero(\n",
        "    lasso_lars_ic[-1].alphas_ == lasso_lars_ic[-1].alpha_\n",
        ")[0]"
      ]
    },
    {
      "cell_type": "code",
      "execution_count": 30,
      "metadata": {},
      "outputs": [
        {
          "data": {
            "text/plain": [
              "0.9504071158262754"
            ]
          },
          "execution_count": 30,
          "metadata": {},
          "output_type": "execute_result"
        }
      ],
      "source": [
        "lasso_lars_ic[-1].alpha_"
      ]
    },
    {
      "cell_type": "code",
      "execution_count": 32,
      "metadata": {
        "collapsed": false
      },
      "outputs": [],
      "source": [
        "lasso_lars_ic.set_params(lassolarsic__criterion=\"bic\").fit(X, y)\n",
        "\n",
        "bic_criterion = zou_et_al_criterion_rescaling(\n",
        "    lasso_lars_ic[-1].criterion_,\n",
        "    n_samples,\n",
        "    lasso_lars_ic[-1].noise_variance_,\n",
        ")\n",
        "\n",
        "index_alpha_path_bic = np.flatnonzero(\n",
        "    lasso_lars_ic[-1].alphas_ == lasso_lars_ic[-1].alpha_\n",
        ")[0]"
      ]
    },
    {
      "cell_type": "markdown",
      "metadata": {},
      "source": [
        "Now that we collected the AIC and BIC, we can as well check that the minima\n",
        "of both criteria happen at the same alpha. Then, we can simplify the\n",
        "following plot.\n",
        "\n"
      ]
    },
    {
      "cell_type": "code",
      "execution_count": 37,
      "metadata": {
        "collapsed": false
      },
      "outputs": [
        {
          "data": {
            "text/plain": [
              "True"
            ]
          },
          "execution_count": 37,
          "metadata": {},
          "output_type": "execute_result"
        }
      ],
      "source": [
        "index_alpha_path_aic == index_alpha_path_bic\n",
        "\n",
        "lasso_lars_ic[-1].alphas_[index_alpha_path_aic] == lasso_lars_ic[-1].alpha_"
      ]
    },
    {
      "cell_type": "markdown",
      "metadata": {},
      "source": [
        "Finally, we can plot the AIC and BIC criterion and the subsequent selected\n",
        "regularization parameter.\n",
        "\n"
      ]
    },
    {
      "cell_type": "code",
      "execution_count": 34,
      "metadata": {
        "collapsed": false
      },
      "outputs": [
        {
          "data": {
            "image/png": "[encoded data removed]",
            "text/plain": [
              "<Figure size 640x480 with 1 Axes>"
            ]
          },
          "metadata": {},
          "output_type": "display_data"
        }
      ],
      "source": [
        "import matplotlib.pyplot as plt\n",
        "\n",
        "plt.plot(aic_criterion, color=\"tab:blue\", marker=\"o\", label=\"AIC criterion\")\n",
        "plt.plot(bic_criterion, color=\"tab:orange\", marker=\"o\", label=\"BIC criterion\")\n",
        "plt.vlines(\n",
        "    index_alpha_path_bic,\n",
        "    aic_criterion.min(),\n",
        "    aic_criterion.max(),\n",
        "    color=\"black\",\n",
        "    linestyle=\"--\",\n",
        "    label=\"Selected alpha\",\n",
        ")\n",
        "plt.legend()\n",
        "plt.ylabel(\"Information criterion\")\n",
        "plt.xlabel(\"Lasso model sequence\")\n",
        "_ = plt.title(\"Lasso model selection via AIC and BIC\")"
      ]
    },
    {
      "cell_type": "code",
      "execution_count": null,
      "metadata": {},
      "outputs": [],
      "source": []
    }
  ],
  "metadata": {
    "kernelspec": {
      "display_name": "Python 3",
      "language": "python",
      "name": "python3"
    },
    "language_info": {
      "codemirror_mode": {
        "name": "ipython",
        "version": 3
      },
      "file_extension": ".py",
      "mimetype": "text/x-python",
      "name": "python",
      "nbconvert_exporter": "python",
      "pygments_lexer": "ipython3",
      "version": "3.11.5"
    }
  },
  "nbformat": 4,
  "nbformat_minor": 0
}
