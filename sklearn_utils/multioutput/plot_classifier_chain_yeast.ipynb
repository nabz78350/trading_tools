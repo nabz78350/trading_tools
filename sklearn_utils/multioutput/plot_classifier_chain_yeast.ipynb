{
  "cells": [
    {
      "cell_type": "markdown",
      "metadata": {},
      "source": [
        "\n",
        "# Multilabel classification using a classifier chain\n",
        "This example shows how to use :class:`~sklearn.multioutput.ClassifierChain` to solve\n",
        "a multilabel classification problem.\n",
        "\n",
        "The most naive strategy to solve such a task is to independently train a binary\n",
        "classifier on each label (i.e. each column of the target variable). At prediction\n",
        "time, the ensemble of binary classifiers is used to assemble multitask prediction.\n",
        "\n",
        "This strategy does not allow to model relationship between different tasks. The\n",
        ":class:`~sklearn.multioutput.ClassifierChain` is the meta-estimator (i.e. an estimator\n",
        "taking an inner estimator) that implements a more advanced strategy. The ensemble\n",
        "of binary classifiers are used as a chain where the prediction of a classifier in the\n",
        "chain is used as a feature for training the next classifier on a new label. Therefore,\n",
        "these additional features allow each chain to exploit correlations among labels.\n",
        "\n",
        "The `Jaccard similarity <jaccard_similarity_score>` score for chain tends to be\n",
        "greater than that of the set independent base models.\n"
      ]
    },
    {
      "cell_type": "code",
      "execution_count": 1,
      "metadata": {
        "collapsed": false
      },
      "outputs": [],
      "source": [
        "# Author: Adam Kleczewski\n",
        "# License: BSD 3 clause"
      ]
    },
    {
      "cell_type": "markdown",
      "metadata": {},
      "source": [
        "## Loading a dataset\n",
        "For this example, we use the [yeast](https://www.openml.org/d/40597) dataset which contains\n",
        "2,417 datapoints each with 103 features and 14 possible labels. Each\n",
        "data point has at least one label. As a baseline we first train a logistic\n",
        "regression classifier for each of the 14 labels. To evaluate the performance of\n",
        "these classifiers we predict on a held-out test set and calculate the\n",
        "Jaccard similarity for each sample.\n",
        "\n"
      ]
    },
    {
      "cell_type": "code",
      "execution_count": 2,
      "metadata": {
        "collapsed": false
      },
      "outputs": [
        {
          "name": "stderr",
          "output_type": "stream",
          "text": [
            "c:\\Users\\marti\\AppData\\Local\\Programs\\Python\\Python311\\Lib\\site-packages\\sklearn\\datasets\\_openml.py:1022: FutureWarning: The default value of `parser` will change from `'liac-arff'` to `'auto'` in 1.4. You can set `parser='auto'` to silence this warning. Therefore, an `ImportError` will be raised from 1.4 if the dataset is dense and pandas is not installed. Note that the pandas parser may return different data types. See the Notes Section in fetch_openml's API doc for details.\n",
            "  warn(\n"
          ]
        }
      ],
      "source": [
        "import matplotlib.pyplot as plt\n",
        "import numpy as np\n",
        "\n",
        "from sklearn.datasets import fetch_openml\n",
        "from sklearn.model_selection import train_test_split\n",
        "\n",
        "# Load a multi-label dataset from https://www.openml.org/d/40597\n",
        "X, Y = fetch_openml(\"yeast\", version=4, return_X_y=True)\n",
        "Y = Y == \"TRUE\"\n",
        "X_train, X_test, Y_train, Y_test = train_test_split(X, Y, test_size=0.2, random_state=0)"
      ]
    },
    {
      "cell_type": "markdown",
      "metadata": {},
      "source": [
        "## Fit models\n",
        "We fit :class:`~sklearn.linear_model.LogisticRegression` wrapped by\n",
        ":class:`~sklearn.multiclass.OneVsRestClassifier` and ensemble of multiple\n",
        ":class:`~sklearn.multioutput.ClassifierChain`.\n",
        "\n",
        "### LogisticRegression wrapped by OneVsRestClassifier\n",
        "Since by default :class:`~sklearn.linear_model.LogisticRegression` can't\n",
        "handle data with multiple targets, we need to use\n",
        ":class:`~sklearn.multiclass.OneVsRestClassifier`.\n",
        "After fitting the model we calculate Jaccard similarity.\n",
        "\n"
      ]
    },
    {
      "cell_type": "code",
      "execution_count": 3,
      "metadata": {
        "collapsed": false
      },
      "outputs": [],
      "source": [
        "from sklearn.linear_model import LogisticRegression\n",
        "from sklearn.metrics import jaccard_score\n",
        "from sklearn.multiclass import OneVsRestClassifier\n",
        "\n",
        "base_lr = LogisticRegression()\n",
        "ovr = OneVsRestClassifier(base_lr)\n",
        "ovr.fit(X_train, Y_train)\n",
        "Y_pred_ovr = ovr.predict(X_test)\n",
        "ovr_jaccard_score = jaccard_score(Y_test, Y_pred_ovr, average=\"samples\")"
      ]
    },
    {
      "cell_type": "markdown",
      "metadata": {},
      "source": [
        "### Chain of binary classifiers\n",
        "Because the models in each chain are arranged randomly there is significant\n",
        "variation in performance among the chains. Presumably there is an optimal\n",
        "ordering of the classes in a chain that will yield the best performance.\n",
        "However, we do not know that ordering a priori. Instead, we can build a\n",
        "voting ensemble of classifier chains by averaging the binary predictions of\n",
        "the chains and apply a threshold of 0.5. The Jaccard similarity score of the\n",
        "ensemble is greater than that of the independent models and tends to exceed\n",
        "the score of each chain in the ensemble (although this is not guaranteed\n",
        "with randomly ordered chains).\n",
        "\n"
      ]
    },
    {
      "cell_type": "markdown",
      "metadata": {},
      "source": [
        "### Classifier Chain vs. OneVsRestClassifier\n",
        "\n",
        "#### OneVsRestClassifier (OVR)\n",
        "\n",
        "The OneVsRestClassifier (OVR) strategy involves training a single classifier per class, with the samples of that class as positive samples and all other samples as negatives. This approach is straightforward and works well for multi-class classification problems. However, it does not model the correlations between classes, which can be a significant limitation in multi-label classification tasks where the presence of one class can affect the presence of another.\n",
        "\n",
        "#### Classifier Chain\n",
        "\n",
        "Classifier Chain (CC) is an extension of the multi-label classification that models label dependencies. Instead of treating each label independently, it trains a sequence of classifiers, each considering the previous predictions as additional features. This method allows capturing the correlations between labels.\n",
        "\n",
        "Formally, for a dataset with $n$ samples and $m$ labels, let $X$ be the feature matrix and $Y$ be the label matrix. For each label $j \\in \\{1, \\dots, m\\}$, a classifier $h_j$ is trained to predict the $j$-th label $Y_j$ using the original features $X$ and the predictions of all previous classifiers $h_1, \\dots, h_{j-1}$. Mathematically, the prediction for the $j$-th label is:\n",
        "\n",
        "$$\n",
        "\\hat{y}_j = h_j(x, \\hat{y}_1, \\hat{y}_2, \\ldots, \\hat{y}_{j-1})\n",
        "$$\n",
        "\n",
        "where:\n",
        "- $\\hat{y}_j$ is the predicted value of the $j$-th label.\n",
        "- $x$ is the input feature vector.\n",
        "- $\\hat{y}_1, \\hat{y}_2, \\ldots, \\hat{y}_{j-1}$ are the predictions of the previous classifiers.\n",
        "\n",
        "#### Advantages of Classifier Chain\n",
        "\n",
        "1. **Modeling Dependencies**: Classifier Chains can capture and utilize the dependencies between labels. If the presence of one label makes another label more likely, this information can improve the overall prediction accuracy.\n",
        "\n",
        "2. **Improved Performance**: By incorporating the predicted labels as features, the classifiers in the chain can make more informed decisions, often leading to better performance compared to independent classifiers.\n",
        "\n",
        "3. **Flexibility**: The order of the chain can be optimized or randomized, allowing multiple chains to be trained and their predictions to be averaged for even better performance. This ensemble approach reduces the variance and improves the robustness of the predictions.\n",
        "\n",
        "#### Main Arguments of `ClassifierChain` in scikit-learn\n",
        "\n",
        "- `base_estimator`: The base estimator to fit on each label. This is often a simple classifier like Logistic Regression.\n",
        "- `order`: The order of the chain. Can be 'random' to use a random order, or an array specifying a specific order of labels.\n",
        "- `cv`: Determines the cross-validation splitting strategy.\n",
        "- `random_state`: The seed of the pseudo-random number generator to use for randomizing the chain order.\n",
        "\n",
        "#### Why Classifier Chain is Better Than OVR?\n",
        "\n",
        "- **Correlation Awareness**: OVR treats each label independently, ignoring potential correlations between labels. Classifier Chains, on the other hand, incorporate the predictions of previous labels, capturing interdependencies.\n",
        "- **Enhanced Predictive Power**: By leveraging the information from other labels, Classifier Chains can improve the predictive performance, especially in scenarios where labels are not independent.\n",
        "- **Ensemble Capability**: Multiple chains with different orders can be combined to form an ensemble, which averages the predictions, leading to more robust and accurate results.\n",
        "\n",
        "In summary, Classifier Chains offer a sophisticated approach to multi-label classification by modeling label dependencies, resulting in better performance and flexibility compared to the OVR strategy.\n"
      ]
    },
    {
      "cell_type": "code",
      "execution_count": 4,
      "metadata": {
        "collapsed": false
      },
      "outputs": [],
      "source": [
        "from sklearn.multioutput import ClassifierChain\n",
        "\n",
        "chains = [ClassifierChain(base_lr, order=\"random\", random_state=i) for i in range(10)]\n",
        "for chain in chains:\n",
        "    chain.fit(X_train, Y_train)\n",
        "\n",
        "Y_pred_chains = np.array([chain.predict_proba(X_test) for chain in chains])\n",
        "chain_jaccard_scores = [\n",
        "    jaccard_score(Y_test, Y_pred_chain >= 0.5, average=\"samples\")\n",
        "    for Y_pred_chain in Y_pred_chains\n",
        "]\n",
        "\n",
        "Y_pred_ensemble = Y_pred_chains.mean(axis=0)\n",
        "ensemble_jaccard_score = jaccard_score(\n",
        "    Y_test, Y_pred_ensemble >= 0.5, average=\"samples\"\n",
        ")"
      ]
    },
    {
      "cell_type": "markdown",
      "metadata": {},
      "source": [
        "## Plot results\n",
        "Plot the Jaccard similarity scores for the independent model, each of the\n",
        "chains, and the ensemble (note that the vertical axis on this plot does\n",
        "not begin at 0).\n",
        "\n"
      ]
    },
    {
      "cell_type": "code",
      "execution_count": 5,
      "metadata": {
        "collapsed": false
      },
      "outputs": [
        {
          "data": {
            "image/png": "[encoded data removed]",
            "text/plain": [
              "<Figure size 700x400 with 1 Axes>"
            ]
          },
          "metadata": {},
          "output_type": "display_data"
        }
      ],
      "source": [
        "model_scores = [ovr_jaccard_score] + chain_jaccard_scores + [ensemble_jaccard_score]\n",
        "\n",
        "model_names = (\n",
        "    \"Independent\",\n",
        "    \"Chain 1\",\n",
        "    \"Chain 2\",\n",
        "    \"Chain 3\",\n",
        "    \"Chain 4\",\n",
        "    \"Chain 5\",\n",
        "    \"Chain 6\",\n",
        "    \"Chain 7\",\n",
        "    \"Chain 8\",\n",
        "    \"Chain 9\",\n",
        "    \"Chain 10\",\n",
        "    \"Ensemble\",\n",
        ")\n",
        "\n",
        "x_pos = np.arange(len(model_names))\n",
        "\n",
        "fig, ax = plt.subplots(figsize=(7, 4))\n",
        "ax.grid(True)\n",
        "ax.set_title(\"Classifier Chain Ensemble Performance Comparison\")\n",
        "ax.set_xticks(x_pos)\n",
        "ax.set_xticklabels(model_names, rotation=\"vertical\")\n",
        "ax.set_ylabel(\"Jaccard Similarity Score\")\n",
        "ax.set_ylim([min(model_scores) * 0.9, max(model_scores) * 1.1])\n",
        "colors = [\"r\"] + [\"b\"] * len(chain_jaccard_scores) + [\"g\"]\n",
        "ax.bar(x_pos, model_scores, alpha=0.5, color=colors)\n",
        "plt.tight_layout()\n",
        "plt.show()"
      ]
    },
    {
      "cell_type": "markdown",
      "metadata": {},
      "source": [
        "## Results interpretation\n",
        "There are three main takeaways from this plot:\n",
        "\n",
        "- Independent model wrapped by :class:`~sklearn.multiclass.OneVsRestClassifier`\n",
        "  performs worse than the ensemble of classifier chains and some of individual chains.\n",
        "  This is caused by the fact that the logistic regression doesn't model relationship\n",
        "  between the labels.\n",
        "- :class:`~sklearn.multioutput.ClassifierChain` takes advantage of correlation\n",
        "  among labels but due to random nature of labels ordering, it could yield worse\n",
        "  result than an independent model.\n",
        "- An ensemble of chains performs better because it not only captures relationship\n",
        "  between labels but also does not make strong assumptions about their correct order.\n",
        "\n"
      ]
    },
    {
      "cell_type": "markdown",
      "metadata": {},
      "source": []
    },
    {
      "cell_type": "markdown",
      "metadata": {},
      "source": []
    }
  ],
  "metadata": {
    "kernelspec": {
      "display_name": "Python 3",
      "language": "python",
      "name": "python3"
    },
    "language_info": {
      "codemirror_mode": {
        "name": "ipython",
        "version": 3
      },
      "file_extension": ".py",
      "mimetype": "text/x-python",
      "name": "python",
      "nbconvert_exporter": "python",
      "pygments_lexer": "ipython3",
      "version": "3.11.5"
    }
  },
  "nbformat": 4,
  "nbformat_minor": 0
}
