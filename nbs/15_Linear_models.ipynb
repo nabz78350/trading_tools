{
 "cells": [
  {
   "cell_type": "markdown",
   "id": "2c795ae3",
   "metadata": {},
   "source": [
    "# Linear models"
   ]
  },
  {
   "cell_type": "markdown",
   "id": "09a3e21f",
   "metadata": {},
   "source": [
    "In this section, we take advantage of some of `scikit-learn` powerful features such as the `pipeline` to run backtests with some learning. This is an extension of the industry momentum backtests presented in the previous section. "
   ]
  },
  {
   "cell_type": "code",
   "execution_count": 11,
   "id": "3acf8c53",
   "metadata": {
    "execution": {
     "iopub.execute_input": "2023-12-07T08:15:12.108391Z",
     "iopub.status.busy": "2023-12-07T08:15:12.107935Z",
     "iopub.status.idle": "2023-12-07T08:15:14.939019Z",
     "shell.execute_reply": "2023-12-07T08:15:14.938180Z"
    }
   },
   "outputs": [
    {
     "name": "stdout",
     "output_type": "stream",
     "text": [
      "The autoreload extension is already loaded. To reload it, use:\n",
      "  %reload_ext autoreload\n"
     ]
    }
   ],
   "source": [
    "\n",
    "%load_ext autoreload\n",
    "%autoreload 2\n",
    "%matplotlib inline\n",
    "\n",
    "import numpy as np\n",
    "import pandas as pd\n",
    "from matplotlib import pyplot as plt\n",
    "from skfin.metrics import *\n",
    "# from skfin.plot import heatmap, line\n",
    "from tqdm.auto import tqdm\n",
    "\n",
    "\n",
    "def line(\n",
    "    df,\n",
    "    sort=True,\n",
    "    figsize=(8, 5),\n",
    "    ax=None,\n",
    "    title=\"\",\n",
    "    cumsum=False,\n",
    "    loc=\"center left\",\n",
    "    bbox_to_anchor=(1, 0.5),\n",
    "    legend_sharpe_ratio=None,\n",
    "    legend=True,\n",
    "    yscale=None,\n",
    "    start_date=None,\n",
    "):\n",
    "    df = df.copy()\n",
    "    if loc == \"best\":\n",
    "        bbox_to_anchor = None\n",
    "    if isinstance(df, dict) | isinstance(df, list):\n",
    "        df = pd.concat(df, axis=1)\n",
    "    if isinstance(df, pd.Series):\n",
    "        df = df.to_frame()\n",
    "    if start_date is not None:\n",
    "        df = df[start_date:]\n",
    "    if cumsum & (legend_sharpe_ratio is None):\n",
    "        legend_sharpe_ratio = True\n",
    "    if legend_sharpe_ratio:\n",
    "        df.columns = [f\"{c}: sr={sharpe_ratio(df[c]): 3.2f}\" for c in df.columns]\n",
    "    if cumsum:\n",
    "        df = df.cumsum()\n",
    "    if sort:\n",
    "        df = df.loc[:, lambda x: x.iloc[-1].sort_values(ascending=False).index]\n",
    "    fig, ax = set_axis(ax=ax, figsize=figsize, title=title)\n",
    "    ax.plot(df.index, df.values)\n",
    "    if legend:\n",
    "        ax.legend(df.columns, loc=loc, bbox_to_anchor=bbox_to_anchor)\n",
    "    if yscale == \"log\":\n",
    "        ax.set_yscale(\"log\")"
   ]
  },
  {
   "cell_type": "markdown",
   "id": "82a818e3",
   "metadata": {},
   "source": [
    "## Ridge / Lasso / Elastic net"
   ]
  },
  {
   "cell_type": "markdown",
   "id": "abc2bf28",
   "metadata": {},
   "source": [
    "Ridge regression: the betas $\\langle \\beta_1, ..., \\beta_p \\rangle$ are chosen to minimize \n",
    "$$\n",
    "\\frac{1}{2} \\sum_{i=1}^N (y_i - \\beta_0 - \\sum_{j=1}^p x_{ij} \\beta_j)^2 + \\lambda \\sum_{j=1}^p \\beta_j^2\n",
    "$$\n",
    "The Ridge regression provides more stable and accurate estimates than standard residual sum of squares minimization\n",
    "\n",
    "Lasso regression: the betas $\\langle \\beta_1,...,\\beta_p \\rangle$ are chosen to minimize \n",
    "$$\n",
    "\\frac{1}{2} \\sum_{i=1}^N (y_i - \\beta_0 - \\sum_{j=1}^p x_{ij} \\beta_j)^2 + \\lambda \\sum_{j=1}^p |\\beta_j|\n",
    "$$\n",
    "The Lasso tends to promote sparse and stable models that can be more easily interpretable. \n"
   ]
  },
  {
   "cell_type": "markdown",
   "id": "9ffed1c4",
   "metadata": {},
   "source": [
    "Elastic net: the betas $\\langle \\beta_1,... ,\\beta_p \\rangle$ are chosen to minimize \n",
    "$$\n",
    "\t\\frac{1}{2} \\sum_{i=1}^N (y_i - \\beta_0 - \\sum_{j=1}^p x_{ij} \\beta_j)^2 + \\lambda \\sum_{j=1}^p [(1-\\alpha) \\beta_j^2 + \\alpha |\\beta_j|]\n",
    "$$\n",
    "\n",
    ">  ``The lasso penalty is not very selective in the choice among a set of strong but correlated predictors, and the ridge penalty is inclined to shrink the coefficients of correlated variables towards each other. The compromise in the elastic net could cause the highly correlated features to be averaged while encouraging a parsiminuous model.\""
   ]
  },
  {
   "cell_type": "markdown",
   "id": "c6142d23",
   "metadata": {},
   "source": [
    "To give an example, we use a diabetes dataset provided by `sklearn`."
   ]
  },
  {
   "cell_type": "code",
   "execution_count": 12,
   "id": "ba68ada8",
   "metadata": {
    "execution": {
     "iopub.execute_input": "2023-12-07T08:15:14.943231Z",
     "iopub.status.busy": "2023-12-07T08:15:14.942905Z",
     "iopub.status.idle": "2023-12-07T08:15:15.144676Z",
     "shell.execute_reply": "2023-12-07T08:15:15.143985Z"
    }
   },
   "outputs": [],
   "source": [
    "from sklearn.datasets import load_diabetes\n",
    "from sklearn.linear_model import enet_path, lasso_path"
   ]
  },
  {
   "cell_type": "code",
   "execution_count": 13,
   "id": "2e5a7801",
   "metadata": {
    "execution": {
     "iopub.execute_input": "2023-12-07T08:15:15.147673Z",
     "iopub.status.busy": "2023-12-07T08:15:15.147205Z",
     "iopub.status.idle": "2023-12-07T08:15:15.190087Z",
     "shell.execute_reply": "2023-12-07T08:15:15.189399Z"
    }
   },
   "outputs": [],
   "source": [
    "X, y = load_diabetes(return_X_y=True, as_frame=True)"
   ]
  },
  {
   "cell_type": "code",
   "execution_count": 14,
   "id": "495890d9",
   "metadata": {
    "execution": {
     "iopub.execute_input": "2023-12-07T08:15:15.193097Z",
     "iopub.status.busy": "2023-12-07T08:15:15.192537Z",
     "iopub.status.idle": "2023-12-07T08:15:15.243621Z",
     "shell.execute_reply": "2023-12-07T08:15:15.242919Z"
    }
   },
   "outputs": [],
   "source": [
    "X /= X.std(axis=0)\n",
    "eps = 5e-3\n",
    "l1_ratio = 0.5\n",
    "\n",
    "alphas_lasso, coefs_lasso, _ = lasso_path(X, y, eps=eps)\n",
    "alphas_enet, coefs_enet, _ = enet_path(X, y, eps=eps, l1_ratio=l1_ratio)"
   ]
  },
  {
   "cell_type": "code",
   "execution_count": 15,
   "id": "2c9d976f",
   "metadata": {
    "execution": {
     "iopub.execute_input": "2023-12-07T08:15:15.246576Z",
     "iopub.status.busy": "2023-12-07T08:15:15.246118Z",
     "iopub.status.idle": "2023-12-07T08:15:15.697323Z",
     "shell.execute_reply": "2023-12-07T08:15:15.696613Z"
    }
   },
   "outputs": [
    {
     "ename": "NameError",
     "evalue": "name 'set_axis' is not defined",
     "output_type": "error",
     "traceback": [
      "\u001b[1;31m---------------------------------------------------------------------------\u001b[0m",
      "\u001b[1;31mNameError\u001b[0m                                 Traceback (most recent call last)",
      "Cell \u001b[1;32mIn[15], line 3\u001b[0m\n\u001b[0;32m      1\u001b[0m fig, ax \u001b[38;5;241m=\u001b[39m plt\u001b[38;5;241m.\u001b[39msubplots(\u001b[38;5;241m1\u001b[39m, \u001b[38;5;241m2\u001b[39m, figsize\u001b[38;5;241m=\u001b[39m(\u001b[38;5;241m20\u001b[39m, \u001b[38;5;241m6\u001b[39m))\n\u001b[0;32m      2\u001b[0m fig\u001b[38;5;241m.\u001b[39msuptitle(\u001b[38;5;124m\"\u001b[39m\u001b[38;5;124mCoefficients as a function of the shrinkage factor (in log)\u001b[39m\u001b[38;5;124m\"\u001b[39m)\n\u001b[1;32m----> 3\u001b[0m \u001b[43mline\u001b[49m\u001b[43m(\u001b[49m\n\u001b[0;32m      4\u001b[0m \u001b[43m    \u001b[49m\u001b[43mpd\u001b[49m\u001b[38;5;241;43m.\u001b[39;49m\u001b[43mDataFrame\u001b[49m\u001b[43m(\u001b[49m\u001b[43mcoefs_lasso\u001b[49m\u001b[38;5;241;43m.\u001b[39;49m\u001b[43mT\u001b[49m\u001b[43m,\u001b[49m\u001b[43m \u001b[49m\u001b[38;5;241;43m-\u001b[39;49m\u001b[38;5;241;43m1\u001b[39;49m\u001b[43m \u001b[49m\u001b[38;5;241;43m*\u001b[39;49m\u001b[43m \u001b[49m\u001b[43mnp\u001b[49m\u001b[38;5;241;43m.\u001b[39;49m\u001b[43mlog\u001b[49m\u001b[43m(\u001b[49m\u001b[43malphas_lasso\u001b[49m\u001b[43m)\u001b[49m\u001b[43m,\u001b[49m\u001b[43m \u001b[49m\u001b[43mcolumns\u001b[49m\u001b[38;5;241;43m=\u001b[39;49m\u001b[43mX\u001b[49m\u001b[38;5;241;43m.\u001b[39;49m\u001b[43mcolumns\u001b[49m\u001b[43m)\u001b[49m\u001b[43m,\u001b[49m\n\u001b[0;32m      5\u001b[0m \u001b[43m    \u001b[49m\u001b[43mtitle\u001b[49m\u001b[38;5;241;43m=\u001b[39;49m\u001b[38;5;124;43m\"\u001b[39;49m\u001b[38;5;124;43mLasso\u001b[39;49m\u001b[38;5;124;43m\"\u001b[39;49m\u001b[43m,\u001b[49m\n\u001b[0;32m      6\u001b[0m \u001b[43m    \u001b[49m\u001b[43max\u001b[49m\u001b[38;5;241;43m=\u001b[39;49m\u001b[43max\u001b[49m\u001b[43m[\u001b[49m\u001b[38;5;241;43m0\u001b[39;49m\u001b[43m]\u001b[49m\u001b[43m,\u001b[49m\n\u001b[0;32m      7\u001b[0m \u001b[43m)\u001b[49m\n\u001b[0;32m      8\u001b[0m line(\n\u001b[0;32m      9\u001b[0m     pd\u001b[38;5;241m.\u001b[39mDataFrame(coefs_enet\u001b[38;5;241m.\u001b[39mT, \u001b[38;5;241m-\u001b[39m\u001b[38;5;241m1\u001b[39m \u001b[38;5;241m*\u001b[39m np\u001b[38;5;241m.\u001b[39mlog(alphas_enet), columns\u001b[38;5;241m=\u001b[39mX\u001b[38;5;241m.\u001b[39mcolumns),\n\u001b[0;32m     10\u001b[0m     title\u001b[38;5;241m=\u001b[39m\u001b[38;5;124mf\u001b[39m\u001b[38;5;124m\"\u001b[39m\u001b[38;5;124mElastic net (l1_ratio=\u001b[39m\u001b[38;5;132;01m{\u001b[39;00ml1_ratio\u001b[38;5;132;01m}\u001b[39;00m\u001b[38;5;124m)\u001b[39m\u001b[38;5;124m\"\u001b[39m,\n\u001b[0;32m     11\u001b[0m     ax\u001b[38;5;241m=\u001b[39max[\u001b[38;5;241m1\u001b[39m],\n\u001b[0;32m     12\u001b[0m )\n",
      "Cell \u001b[1;32mIn[11], line 44\u001b[0m, in \u001b[0;36mline\u001b[1;34m(df, sort, figsize, ax, title, cumsum, loc, bbox_to_anchor, legend_sharpe_ratio, legend, yscale, start_date)\u001b[0m\n\u001b[0;32m     42\u001b[0m \u001b[38;5;28;01mif\u001b[39;00m sort:\n\u001b[0;32m     43\u001b[0m     df \u001b[38;5;241m=\u001b[39m df\u001b[38;5;241m.\u001b[39mloc[:, \u001b[38;5;28;01mlambda\u001b[39;00m x: x\u001b[38;5;241m.\u001b[39miloc[\u001b[38;5;241m-\u001b[39m\u001b[38;5;241m1\u001b[39m]\u001b[38;5;241m.\u001b[39msort_values(ascending\u001b[38;5;241m=\u001b[39m\u001b[38;5;28;01mFalse\u001b[39;00m)\u001b[38;5;241m.\u001b[39mindex]\n\u001b[1;32m---> 44\u001b[0m fig, ax \u001b[38;5;241m=\u001b[39m \u001b[43mset_axis\u001b[49m(ax\u001b[38;5;241m=\u001b[39max, figsize\u001b[38;5;241m=\u001b[39mfigsize, title\u001b[38;5;241m=\u001b[39mtitle)\n\u001b[0;32m     45\u001b[0m ax\u001b[38;5;241m.\u001b[39mplot(df\u001b[38;5;241m.\u001b[39mindex, df\u001b[38;5;241m.\u001b[39mvalues)\n\u001b[0;32m     46\u001b[0m \u001b[38;5;28;01mif\u001b[39;00m legend:\n",
      "\u001b[1;31mNameError\u001b[0m: name 'set_axis' is not defined"
     ]
    },
    {
     "data": {
      "image/png": "[encoded data removed]",
      "text/plain": [
       "<Figure size 2000x600 with 2 Axes>"
      ]
     },
     "metadata": {},
     "output_type": "display_data"
    }
   ],
   "source": [
    "fig, ax = plt.subplots(1, 2, figsize=(20, 6))\n",
    "fig.suptitle(\"Coefficients as a function of the shrinkage factor (in log)\")\n",
    "line(\n",
    "    pd.DataFrame(coefs_lasso.T, -1 * np.log(alphas_lasso), columns=X.columns),\n",
    "    title=\"Lasso\",\n",
    "    ax=ax[0],\n",
    ")\n",
    "line(\n",
    "    pd.DataFrame(coefs_enet.T, -1 * np.log(alphas_enet), columns=X.columns),\n",
    "    title=f\"Elastic net (l1_ratio={l1_ratio})\",\n",
    "    ax=ax[1],\n",
    ")"
   ]
  },
  {
   "cell_type": "markdown",
   "id": "f2ca2e18",
   "metadata": {},
   "source": [
    "See more discussion in \n",
    "\n",
    "> Hastie, Trevor, et al. *The elements of statistical learning: data mining, inference, and prediction.* Vol. 2. New York: springer, 2009."
   ]
  },
  {
   "cell_type": "markdown",
   "id": "bf80b0d1",
   "metadata": {},
   "source": [
    "## Revisiting the industry backtest with linear models"
   ]
  },
  {
   "cell_type": "markdown",
   "id": "d0252269",
   "metadata": {},
   "source": [
    "In the `Industry momentum` section, we introduced a feature `X` as 12-month trailing past returns and target `y` as the one-month forward return. For $N$ industries (e.g. $N=12$), `X` and `y` are vectors of size $N$. "
   ]
  },
  {
   "cell_type": "markdown",
   "id": "1ee69300",
   "metadata": {},
   "source": [
    "In this section, we are interested in fitting linear models (potentially with regularisation à la Ridge, Lasso or Elastic Net) such that \n",
    "\n",
    "$$ y = B X, $$ \n",
    "\n",
    "where $B$ is a matrix of size $[N \\times N]$. (In this equation, we ignore intercept terms which are generally small.) This equation falls into two lines of research: \n",
    "\n",
    "- in classic Econometrics, this is called a Vector Autoregressive (VAR) model (.e.g see the [wikipedia article](https://en.wikipedia.org/wiki/Vector_autoregression)). \n",
    "\n",
    "- in Machine-learning, this is often called a `multioutput` model. "
   ]
  },
  {
   "cell_type": "markdown",
   "id": "586f696c",
   "metadata": {},
   "source": [
    "The interpretation of this model in the context of industry timing is that it captures cross-industry effect: \n",
    "\n",
    "- for instance, a increasing trend on oil prices (which is positive for the Energy stocks) might be a negative predictor for sectors that use oil as input (e.g. Manufacturing)\n",
    "\n",
    "Such VAR/multioutput models will pick up the positive lead-lag correlations across industries and therefore potentially enrich the simple `Industry momentum` strategy that we introduced in the previous section."
   ]
  },
  {
   "cell_type": "markdown",
   "id": "3a3755c2",
   "metadata": {},
   "source": [
    "### Scikit-learn Pipeline and Multi-output"
   ]
  },
  {
   "cell_type": "markdown",
   "id": "fb7f38ca",
   "metadata": {},
   "source": [
    "From the [documentation](https://scikit-learn.org/stable/modules/generated/sklearn.pipeline.Pipeline.html), the definition of a `sklearn` pipeline is: \n",
    "\n",
    "> Sequentially apply a list of transforms and a final estimator. Intermediate steps of the pipeline must be ‘transforms’, that is, they must implement fit and transform methods. The final estimator only needs to implement fit. "
   ]
  },
  {
   "cell_type": "markdown",
   "id": "b681e3ea",
   "metadata": {},
   "source": [
    "Estimator like linear regressions or `Ridge` regressions have the property to estimate with `multiouput` as the regression above, but are notheless estimators, not transormations. However, \n",
    "\n",
    "\n",
    "- in the pipelines that we are building, the last step is the `MeanVariance` class that produces the holdings;  \n",
    "\n",
    "- in the `sklearn` pipelines, all the steps except for the last one must be transformations; \n",
    "\n",
    "- despite formally not having a `transform` function, the `multioutput` linear estimators (such as `Ridge` and `Lasso`) are transformations of a vector `X` of size $N$ into a vector `y` of size $N$. \n",
    "\n",
    "In the following module, we extend the estimators that we will be using to have such `transform` property. "
   ]
  },
  {
   "cell_type": "code",
   "execution_count": 16,
   "id": "e9fbe26f",
   "metadata": {
    "execution": {
     "iopub.execute_input": "2023-12-07T08:15:15.701789Z",
     "iopub.status.busy": "2023-12-07T08:15:15.701325Z",
     "iopub.status.idle": "2023-12-07T08:15:15.732123Z",
     "shell.execute_reply": "2023-12-07T08:15:15.731466Z"
    }
   },
   "outputs": [
    {
     "name": "stdout",
     "output_type": "stream",
     "text": [
      "Overwriting ../skfin/estimators.py\n"
     ]
    }
   ],
   "source": [
    "%%writefile ../skfin/estimators.py\n",
    "from lightgbm.sklearn import LGBMRegressor\n",
    "from sklearn.base import BaseEstimator, clone\n",
    "from sklearn.linear_model import LinearRegression, Ridge, RidgeCV\n",
    "from sklearn.multioutput import MultiOutputRegressor\n",
    "from sklearn.neural_network import MLPRegressor\n",
    "\n",
    "\n",
    "class LinearRegression(LinearRegression):\n",
    "    def transform(self, X):\n",
    "        return self.predict(X)\n",
    "\n",
    "\n",
    "class Ridge(Ridge):\n",
    "    def transform(self, X):\n",
    "        return self.predict(X)\n",
    "\n",
    "\n",
    "class RidgeCV(RidgeCV):\n",
    "    def transform(self, X):\n",
    "        return self.predict(X)\n",
    "\n",
    "\n",
    "class MLPRegressor(MLPRegressor):\n",
    "    def transform(self, X):\n",
    "        return self.predict(X)\n",
    "\n",
    "\n",
    "class MultiOutputRegressor(MultiOutputRegressor):\n",
    "    def transform(self, X):\n",
    "        return self.predict(X)\n",
    "\n",
    "\n",
    "class MultiLGBMRegressor(BaseEstimator):\n",
    "    \"\"\"\n",
    "    Multi-output extension of the lightgbm regressor as a transform class\n",
    "    get_params and set_params attributes necessary for cloning the class\n",
    "    \"\"\"\n",
    "\n",
    "    def __init__(self, **kwargs):\n",
    "        if \"n_jobs\" in kwargs.keys():\n",
    "            kwargs[\"n_jobs\"] = 1\n",
    "        else:\n",
    "            kwargs = {\"n_jobs\": 1, **kwargs}\n",
    "        self.m = MultiOutputRegressor(LGBMRegressor(**kwargs))\n",
    "\n",
    "    def get_params(self, deep=True):\n",
    "        return self.m.estimator.get_params(deep=deep)\n",
    "\n",
    "    def set_params(self, **kwargs):\n",
    "        if \"n_jobs\" in kwargs.keys():\n",
    "            kwargs[\"n_jobs\"] = 1\n",
    "        else:\n",
    "            kwargs = {\"n_jobs\": 1, **kwargs}\n",
    "        return self.m.estimator.set_params(**kwargs)\n",
    "\n",
    "    def fit(self, X, y):\n",
    "        return self.m.fit(X, y)\n",
    "\n",
    "    def transform(self, X):\n",
    "        return self.m.transform(X)"
   ]
  },
  {
   "cell_type": "markdown",
   "id": "e4cd499b",
   "metadata": {},
   "source": [
    "### Linear Regression"
   ]
  },
  {
   "cell_type": "markdown",
   "id": "ae824ec9",
   "metadata": {},
   "source": [
    "We first load the data and the main custom functions to run a backtest. "
   ]
  },
  {
   "cell_type": "code",
   "execution_count": 24,
   "id": "3a384bbc",
   "metadata": {
    "execution": {
     "iopub.execute_input": "2023-12-07T08:15:15.735293Z",
     "iopub.status.busy": "2023-12-07T08:15:15.734926Z",
     "iopub.status.idle": "2023-12-07T08:15:16.171276Z",
     "shell.execute_reply": "2023-12-07T08:15:16.170580Z"
    }
   },
   "outputs": [
    {
     "name": "stdout",
     "output_type": "stream",
     "text": [
      "INFO:skfin.datasets:logging from cache directory: data\\12_Industry_Portfolios\n"
     ]
    }
   ],
   "source": [
    "from skfin.backtesting import Backtester\n",
    "from skfin.datasets import load_kf_returns\n",
    "from skfin.mv_estimators import MeanVariance\n",
    "\n",
    "returns_data = load_kf_returns(cache_dir=\"data\")\n",
    "\n",
    "ret = returns_data[\"Monthly\"][\"Average_Value_Weighted_Returns\"]\n",
    "\n",
    "\n",
    "def transform_X(df, window=12):\n",
    "    return df.rolling(window=window).mean()\n",
    "\n",
    "\n",
    "def transform_y(df):\n",
    "    return df.shift(-1)\n",
    "\n",
    "\n",
    "features = transform_X(ret)\n",
    "target = transform_y(ret)"
   ]
  },
  {
   "cell_type": "markdown",
   "id": "416d9239",
   "metadata": {},
   "source": [
    "As a reference, we re-compute the pnl of a simple `Industry momentum` strategy."
   ]
  },
  {
   "cell_type": "code",
   "execution_count": 25,
   "id": "0e82bf01",
   "metadata": {
    "execution": {
     "iopub.execute_input": "2023-12-07T08:15:16.174624Z",
     "iopub.status.busy": "2023-12-07T08:15:16.174283Z",
     "iopub.status.idle": "2023-12-07T08:15:16.469157Z",
     "shell.execute_reply": "2023-12-07T08:15:16.468511Z"
    }
   },
   "outputs": [
    {
     "data": {
      "text/plain": [
       "<Axes: >"
      ]
     },
     "execution_count": 25,
     "metadata": {},
     "output_type": "execute_result"
    },
    {
     "data": {
      "image/png": "[encoded data removed]",
      "text/plain": [
       "<Figure size 640x480 with 1 Axes>"
      ]
     },
     "metadata": {},
     "output_type": "display_data"
    }
   ],
   "source": [
    "pnls = [\n",
    "    Backtester(MeanVariance(), name=\"Industry momentum\").train(features, target, ret)\n",
    "]\n",
    "pd.concat(pnls,axis=1).cumsum().plot()"
   ]
  },
  {
   "cell_type": "markdown",
   "id": "2fe21518",
   "metadata": {},
   "source": [
    "We now load the functions that are specific to building `sklearn` pipelines. "
   ]
  },
  {
   "cell_type": "code",
   "execution_count": 26,
   "id": "e66fee5e",
   "metadata": {
    "execution": {
     "iopub.execute_input": "2023-12-07T08:15:16.472202Z",
     "iopub.status.busy": "2023-12-07T08:15:16.471856Z",
     "iopub.status.idle": "2023-12-07T08:15:16.499305Z",
     "shell.execute_reply": "2023-12-07T08:15:16.498661Z"
    }
   },
   "outputs": [],
   "source": [
    "from skfin.estimators import LinearRegression, Ridge\n",
    "from sklearn.pipeline import make_pipeline\n",
    "from sklearn.preprocessing import PolynomialFeatures, StandardScaler"
   ]
  },
  {
   "cell_type": "markdown",
   "id": "f22ffd07",
   "metadata": {},
   "source": [
    "In the following simple pipeline, there are two steps: \n",
    "\n",
    "- the first step is a simple `multioutput` linear regression that produces fitted predictions for each industry\n",
    "\n",
    "- the second step takes these predictors and scales them as holdings with a mean-variance optimisation (with the `MeanVariance` class introduced earlier. "
   ]
  },
  {
   "cell_type": "code",
   "execution_count": 27,
   "id": "16b70371",
   "metadata": {
    "execution": {
     "iopub.execute_input": "2023-12-07T08:15:16.502211Z",
     "iopub.status.busy": "2023-12-07T08:15:16.501911Z",
     "iopub.status.idle": "2023-12-07T08:15:16.528344Z",
     "shell.execute_reply": "2023-12-07T08:15:16.527700Z"
    }
   },
   "outputs": [],
   "source": [
    "estimator = make_pipeline(LinearRegression(), MeanVariance())"
   ]
  },
  {
   "cell_type": "code",
   "execution_count": 30,
   "id": "1324d29e",
   "metadata": {
    "execution": {
     "iopub.execute_input": "2023-12-07T08:15:16.531101Z",
     "iopub.status.busy": "2023-12-07T08:15:16.530810Z",
     "iopub.status.idle": "2023-12-07T08:15:18.525144Z",
     "shell.execute_reply": "2023-12-07T08:15:18.524496Z"
    }
   },
   "outputs": [
    {
     "data": {
      "text/plain": [
       "<Axes: >"
      ]
     },
     "execution_count": 30,
     "metadata": {},
     "output_type": "execute_result"
    },
    {
     "data": {
      "image/png": "[encoded data removed]",
      "text/plain": [
       "<Figure size 640x480 with 1 Axes>"
      ]
     },
     "metadata": {},
     "output_type": "display_data"
    }
   ],
   "source": [
    "m = (\n",
    "    Backtester(estimator, name=\"linear_regression\")\n",
    "    .compute_holdings(features, target)\n",
    "    .compute_pnl(ret)\n",
    ")\n",
    "pnls += [m.pnl_]\n",
    "pd.concat(pnls,axis=1).cumsum().plot()"
   ]
  },
  {
   "cell_type": "markdown",
   "id": "3846b149",
   "metadata": {},
   "source": [
    "The linear regression fits an intercept and some coefficients. "
   ]
  },
  {
   "cell_type": "code",
   "execution_count": 31,
   "id": "7d7e8b4c",
   "metadata": {
    "execution": {
     "iopub.execute_input": "2023-12-07T08:15:18.528350Z",
     "iopub.status.busy": "2023-12-07T08:15:18.527964Z",
     "iopub.status.idle": "2023-12-07T08:15:18.560231Z",
     "shell.execute_reply": "2023-12-07T08:15:18.559592Z"
    }
   },
   "outputs": [
    {
     "data": {
      "text/plain": [
       "True"
      ]
     },
     "execution_count": 31,
     "metadata": {},
     "output_type": "execute_result"
    }
   ],
   "source": [
    "ols_ = m.estimators_[0].named_steps[\"linearregression\"]\n",
    "coef_ = ols_.coef_\n",
    "intercept_ = ols_.intercept_\n",
    "vec = ret.mean().values\n",
    "np.allclose(ols_.predict(vec[None, :]), coef_.dot(vec) + intercept_)"
   ]
  },
  {
   "cell_type": "code",
   "execution_count": 32,
   "id": "ff7b2a16",
   "metadata": {
    "execution": {
     "iopub.execute_input": "2023-12-07T08:15:18.563354Z",
     "iopub.status.busy": "2023-12-07T08:15:18.562714Z",
     "iopub.status.idle": "2023-12-07T08:15:18.591820Z",
     "shell.execute_reply": "2023-12-07T08:15:18.591154Z"
    }
   },
   "outputs": [],
   "source": [
    "coefs_ = [m.named_steps[\"linearregression\"].coef_ for m in m.estimators_]\n",
    "coefs_mean = pd.DataFrame(sum(coefs_) / len(coefs_), ret.columns, ret.columns).T"
   ]
  },
  {
   "cell_type": "code",
   "execution_count": null,
   "id": "582ef170",
   "metadata": {
    "execution": {
     "iopub.execute_input": "2023-12-07T08:15:18.594602Z",
     "iopub.status.busy": "2023-12-07T08:15:18.594288Z",
     "iopub.status.idle": "2023-12-07T08:15:18.868313Z",
     "shell.execute_reply": "2023-12-07T08:15:18.867680Z"
    }
   },
   "outputs": [],
   "source": [
    "heatmap(\n",
    "    coefs_mean.loc[\n",
    "        coefs_mean.mean(1).sort_values().index, coefs_mean.mean(1).sort_values().index\n",
    "    ],\n",
    "    title=\"Average linear regression coefficients (x-axis: predictors, y-axis=targets)\",\n",
    ")"
   ]
  },
  {
   "cell_type": "code",
   "execution_count": null,
   "id": "5bb62825",
   "metadata": {
    "execution": {
     "iopub.execute_input": "2023-12-07T08:15:18.871359Z",
     "iopub.status.busy": "2023-12-07T08:15:18.870749Z",
     "iopub.status.idle": "2023-12-07T08:15:24.229017Z",
     "shell.execute_reply": "2023-12-07T08:15:24.228302Z"
    }
   },
   "outputs": [],
   "source": [
    "pnls_ = {}\n",
    "for hl in [6, 12, 24]:\n",
    "    features_ = ret.ewm(halflife=hl).mean().fillna(0)\n",
    "    pnls_[hl] = Backtester(estimator).train(features_, target, ret)\n",
    "line(pnls_, cumsum=True, title=\"Robustness on feature half-lives\")"
   ]
  },
  {
   "cell_type": "code",
   "execution_count": null,
   "id": "5a660fe8",
   "metadata": {
    "execution": {
     "iopub.execute_input": "2023-12-07T08:15:24.232212Z",
     "iopub.status.busy": "2023-12-07T08:15:24.231808Z",
     "iopub.status.idle": "2023-12-07T08:15:29.830409Z",
     "shell.execute_reply": "2023-12-07T08:15:29.829685Z"
    }
   },
   "outputs": [],
   "source": [
    "pnls_ = {}\n",
    "for hl in [6, 12, 24]:\n",
    "    features_ = ret.rolling(window=hl).mean().fillna(0)\n",
    "    pnls_[hl] = Backtester(estimator).train(features_, target, ret)\n",
    "line(pnls_, cumsum=True, title=\"Robustness on features with rolling windows\")"
   ]
  },
  {
   "cell_type": "markdown",
   "id": "7ee4599c",
   "metadata": {},
   "source": [
    "### Ridge"
   ]
  },
  {
   "cell_type": "markdown",
   "id": "a27f6819",
   "metadata": {},
   "source": [
    "Given that the `Ridge` regression applies a constraint across features, each feature needs to be properly rescaled, which is done here with `StandardScalar`."
   ]
  },
  {
   "cell_type": "code",
   "execution_count": null,
   "id": "8cddaec4",
   "metadata": {
    "execution": {
     "iopub.execute_input": "2023-12-07T08:15:29.834430Z",
     "iopub.status.busy": "2023-12-07T08:15:29.833539Z",
     "iopub.status.idle": "2023-12-07T08:15:31.700734Z",
     "shell.execute_reply": "2023-12-07T08:15:31.700021Z"
    }
   },
   "outputs": [],
   "source": [
    "estimator = make_pipeline(StandardScaler(with_mean=False), Ridge(), MeanVariance())\n",
    "m = (\n",
    "    Backtester(estimator, name=\"ridge\")\n",
    "    .compute_holdings(features, target)\n",
    "    .compute_pnl(ret)\n",
    ")\n",
    "pnls += [m.pnl_]\n",
    "line(m.pnl_, cumsum=True)"
   ]
  },
  {
   "cell_type": "code",
   "execution_count": null,
   "id": "39459234",
   "metadata": {
    "execution": {
     "iopub.execute_input": "2023-12-07T08:15:31.703788Z",
     "iopub.status.busy": "2023-12-07T08:15:31.703418Z",
     "iopub.status.idle": "2023-12-07T08:15:38.501723Z",
     "shell.execute_reply": "2023-12-07T08:15:38.501002Z"
    }
   },
   "outputs": [],
   "source": [
    "pnls_ = {}\n",
    "for alpha in [0.1, 1, 10, 100]:\n",
    "    estimator_ = make_pipeline(\n",
    "        StandardScaler(with_mean=False), Ridge(alpha=alpha), MeanVariance()\n",
    "    )\n",
    "    pnls_[alpha] = Backtester(estimator_).train(features, target, ret)\n",
    "line(pnls_, cumsum=True, title=\"Ridge: Robustness on alpha\")"
   ]
  },
  {
   "cell_type": "markdown",
   "id": "78dd729b",
   "metadata": {},
   "source": [
    "### Ridge with feature expansion"
   ]
  },
  {
   "cell_type": "markdown",
   "id": "fbdedafd",
   "metadata": {},
   "source": [
    "We can expand the set of features by using polynomial transfomrs with `PolynomialFeatures`."
   ]
  },
  {
   "cell_type": "code",
   "execution_count": null,
   "id": "90280d55",
   "metadata": {
    "execution": {
     "iopub.execute_input": "2023-12-07T08:15:38.505174Z",
     "iopub.status.busy": "2023-12-07T08:15:38.504784Z",
     "iopub.status.idle": "2023-12-07T08:15:38.545110Z",
     "shell.execute_reply": "2023-12-07T08:15:38.544483Z"
    }
   },
   "outputs": [],
   "source": [
    "PolynomialFeatures(degree=2).fit_transform(ret.iloc[:10]).shape"
   ]
  },
  {
   "cell_type": "markdown",
   "id": "6807e5ba",
   "metadata": {},
   "source": [
    "Number of new features: intercept, initial features (=12), squared features (12), all cross features of degree 1 (=6*11): "
   ]
  },
  {
   "cell_type": "code",
   "execution_count": null,
   "id": "060b301d",
   "metadata": {
    "execution": {
     "iopub.execute_input": "2023-12-07T08:15:38.548287Z",
     "iopub.status.busy": "2023-12-07T08:15:38.547694Z",
     "iopub.status.idle": "2023-12-07T08:15:38.574362Z",
     "shell.execute_reply": "2023-12-07T08:15:38.573722Z"
    }
   },
   "outputs": [],
   "source": [
    "estimator = make_pipeline(\n",
    "    StandardScaler(with_mean=False),\n",
    "    PolynomialFeatures(degree=2),\n",
    "    Ridge(alpha=100),\n",
    "    MeanVariance(),\n",
    ")"
   ]
  },
  {
   "cell_type": "code",
   "execution_count": null,
   "id": "2f7129c3",
   "metadata": {
    "execution": {
     "iopub.execute_input": "2023-12-07T08:15:38.577328Z",
     "iopub.status.busy": "2023-12-07T08:15:38.576778Z",
     "iopub.status.idle": "2023-12-07T08:15:38.604395Z",
     "shell.execute_reply": "2023-12-07T08:15:38.603731Z"
    }
   },
   "outputs": [],
   "source": [
    "print(f\"Number of features generated by degree=2: {1+ 12 + 12 + 6 * 11}\")"
   ]
  },
  {
   "cell_type": "code",
   "execution_count": null,
   "id": "0629c532",
   "metadata": {
    "execution": {
     "iopub.execute_input": "2023-12-07T08:15:38.607314Z",
     "iopub.status.busy": "2023-12-07T08:15:38.606865Z",
     "iopub.status.idle": "2023-12-07T08:15:40.875049Z",
     "shell.execute_reply": "2023-12-07T08:15:40.874335Z"
    }
   },
   "outputs": [],
   "source": [
    "pnls += [\n",
    "    Backtester(estimator, name=\"ridge_with_feature_expansion\").train(\n",
    "        features_, target, ret\n",
    "    )\n",
    "]\n",
    "line(m.pnl_, cumsum=True)"
   ]
  },
  {
   "cell_type": "code",
   "execution_count": null,
   "id": "5980e93d",
   "metadata": {
    "execution": {
     "iopub.execute_input": "2023-12-07T08:15:40.878209Z",
     "iopub.status.busy": "2023-12-07T08:15:40.877804Z",
     "iopub.status.idle": "2023-12-07T08:15:51.520930Z",
     "shell.execute_reply": "2023-12-07T08:15:51.520207Z"
    }
   },
   "outputs": [],
   "source": [
    "pnls_ = {}\n",
    "for alpha in [0.1, 1, 10, 100, 1000]:\n",
    "    estimator_ = make_pipeline(\n",
    "        StandardScaler(with_mean=False),\n",
    "        PolynomialFeatures(degree=2),\n",
    "        Ridge(alpha=alpha),\n",
    "        MeanVariance(),\n",
    "    )\n",
    "    pnls_[alpha] = Backtester(estimator_).train(features_, target, ret)\n",
    "line(pnls_, cumsum=True, title=\"Ridge with feature expansion: Robustness on alpha\")"
   ]
  },
  {
   "cell_type": "markdown",
   "id": "bb9c7216",
   "metadata": {},
   "source": [
    "Putting all the types of linear predictors together, we can compare the cumulative pnls in the graph below."
   ]
  },
  {
   "cell_type": "code",
   "execution_count": null,
   "id": "8e40c0b7",
   "metadata": {
    "execution": {
     "iopub.execute_input": "2023-12-07T08:15:51.524659Z",
     "iopub.status.busy": "2023-12-07T08:15:51.523867Z",
     "iopub.status.idle": "2023-12-07T08:15:52.934003Z",
     "shell.execute_reply": "2023-12-07T08:15:52.933357Z"
    }
   },
   "outputs": [],
   "source": [
    "line(pd.concat(pnls, axis=1).assign(ALL=lambda x: x.mean(axis=1)), cumsum=True)"
   ]
  }
 ],
 "metadata": {
  "hide_input": false,
  "kernelspec": {
   "display_name": "Python 3",
   "language": "python",
   "name": "python3"
  },
  "language_info": {
   "codemirror_mode": {
    "name": "ipython",
    "version": 3
   },
   "file_extension": ".py",
   "mimetype": "text/x-python",
   "name": "python",
   "nbconvert_exporter": "python",
   "pygments_lexer": "ipython3",
   "version": "3.11.5"
  },
  "toc": {
   "base_numbering": 1,
   "nav_menu": {},
   "number_sections": false,
   "sideBar": true,
   "skip_h1_title": false,
   "title_cell": "Table of Contents",
   "title_sidebar": "Contents",
   "toc_cell": false,
   "toc_position": {},
   "toc_section_display": true,
   "toc_window_display": false
  },
  "widgets": {
   "application/vnd.jupyter.widget-state+json": {
    "state": {
     "259e9b594fb444a7a69b9d3913447d94": {
      "model_module": "@jupyter-widgets/controls",
      "model_module_version": "2.0.0",
      "model_name": "FloatProgressModel",
      "state": {
       "_dom_classes": [],
       "_model_module": "@jupyter-widgets/controls",
       "_model_module_version": "2.0.0",
       "_model_name": "FloatProgressModel",
       "_view_count": null,
       "_view_module": "@jupyter-widgets/controls",
       "_view_module_version": "2.0.0",
       "_view_name": "ProgressView",
       "bar_style": "success",
       "description": "",
       "description_allow_html": false,
       "layout": "IPY_MODEL_cdb0e5b96f9444f48051e90c3bef15c9",
       "max": 3,
       "min": 0,
       "orientation": "horizontal",
       "style": "IPY_MODEL_5e3e87972f31445aa15827921b26a3aa",
       "tabbable": null,
       "tooltip": null,
       "value": 3
      }
     },
     "4102aa0a4ac64eef92ef75e977f8df35": {
      "model_module": "@jupyter-widgets/base",
      "model_module_version": "2.0.0",
      "model_name": "LayoutModel",
      "state": {
       "_model_module": "@jupyter-widgets/base",
       "_model_module_version": "2.0.0",
       "_model_name": "LayoutModel",
       "_view_count": null,
       "_view_module": "@jupyter-widgets/base",
       "_view_module_version": "2.0.0",
       "_view_name": "LayoutView",
       "align_content": null,
       "align_items": null,
       "align_self": null,
       "border_bottom": null,
       "border_left": null,
       "border_right": null,
       "border_top": null,
       "bottom": null,
       "display": null,
       "flex": null,
       "flex_flow": null,
       "grid_area": null,
       "grid_auto_columns": null,
       "grid_auto_flow": null,
       "grid_auto_rows": null,
       "grid_column": null,
       "grid_gap": null,
       "grid_row": null,
       "grid_template_areas": null,
       "grid_template_columns": null,
       "grid_template_rows": null,
       "height": null,
       "justify_content": null,
       "justify_items": null,
       "left": null,
       "margin": null,
       "max_height": null,
       "max_width": null,
       "min_height": null,
       "min_width": null,
       "object_fit": null,
       "object_position": null,
       "order": null,
       "overflow": null,
       "padding": null,
       "right": null,
       "top": null,
       "visibility": null,
       "width": null
      }
     },
     "43e7d328cdc14916837a92e7aa06f352": {
      "model_module": "@jupyter-widgets/controls",
      "model_module_version": "2.0.0",
      "model_name": "HTMLStyleModel",
      "state": {
       "_model_module": "@jupyter-widgets/controls",
       "_model_module_version": "2.0.0",
       "_model_name": "HTMLStyleModel",
       "_view_count": null,
       "_view_module": "@jupyter-widgets/base",
       "_view_module_version": "2.0.0",
       "_view_name": "StyleView",
       "background": null,
       "description_width": "",
       "font_size": null,
       "text_color": null
      }
     },
     "5e3e87972f31445aa15827921b26a3aa": {
      "model_module": "@jupyter-widgets/controls",
      "model_module_version": "2.0.0",
      "model_name": "ProgressStyleModel",
      "state": {
       "_model_module": "@jupyter-widgets/controls",
       "_model_module_version": "2.0.0",
       "_model_name": "ProgressStyleModel",
       "_view_count": null,
       "_view_module": "@jupyter-widgets/base",
       "_view_module_version": "2.0.0",
       "_view_name": "StyleView",
       "bar_color": null,
       "description_width": ""
      }
     },
     "60b21535e2be4f4997812df845a723f8": {
      "model_module": "@jupyter-widgets/controls",
      "model_module_version": "2.0.0",
      "model_name": "HTMLStyleModel",
      "state": {
       "_model_module": "@jupyter-widgets/controls",
       "_model_module_version": "2.0.0",
       "_model_name": "HTMLStyleModel",
       "_view_count": null,
       "_view_module": "@jupyter-widgets/base",
       "_view_module_version": "2.0.0",
       "_view_name": "StyleView",
       "background": null,
       "description_width": "",
       "font_size": null,
       "text_color": null
      }
     },
     "7baaf86bebca48adbfb24c6da1ae2a62": {
      "model_module": "@jupyter-widgets/base",
      "model_module_version": "2.0.0",
      "model_name": "LayoutModel",
      "state": {
       "_model_module": "@jupyter-widgets/base",
       "_model_module_version": "2.0.0",
       "_model_name": "LayoutModel",
       "_view_count": null,
       "_view_module": "@jupyter-widgets/base",
       "_view_module_version": "2.0.0",
       "_view_name": "LayoutView",
       "align_content": null,
       "align_items": null,
       "align_self": null,
       "border_bottom": null,
       "border_left": null,
       "border_right": null,
       "border_top": null,
       "bottom": null,
       "display": null,
       "flex": null,
       "flex_flow": null,
       "grid_area": null,
       "grid_auto_columns": null,
       "grid_auto_flow": null,
       "grid_auto_rows": null,
       "grid_column": null,
       "grid_gap": null,
       "grid_row": null,
       "grid_template_areas": null,
       "grid_template_columns": null,
       "grid_template_rows": null,
       "height": null,
       "justify_content": null,
       "justify_items": null,
       "left": null,
       "margin": null,
       "max_height": null,
       "max_width": null,
       "min_height": null,
       "min_width": null,
       "object_fit": null,
       "object_position": null,
       "order": null,
       "overflow": null,
       "padding": null,
       "right": null,
       "top": null,
       "visibility": null,
       "width": null
      }
     },
     "949badde7f6e4ca094b695fa9cc250ae": {
      "model_module": "@jupyter-widgets/controls",
      "model_module_version": "2.0.0",
      "model_name": "HTMLModel",
      "state": {
       "_dom_classes": [],
       "_model_module": "@jupyter-widgets/controls",
       "_model_module_version": "2.0.0",
       "_model_name": "HTMLModel",
       "_view_count": null,
       "_view_module": "@jupyter-widgets/controls",
       "_view_module_version": "2.0.0",
       "_view_name": "HTMLView",
       "description": "",
       "description_allow_html": false,
       "layout": "IPY_MODEL_d31af81175764be2adda06127976e6aa",
       "placeholder": "​",
       "style": "IPY_MODEL_43e7d328cdc14916837a92e7aa06f352",
       "tabbable": null,
       "tooltip": null,
       "value": "100%"
      }
     },
     "9c8e75e1d358488fab0e590e10e0f3a8": {
      "model_module": "@jupyter-widgets/controls",
      "model_module_version": "2.0.0",
      "model_name": "HBoxModel",
      "state": {
       "_dom_classes": [],
       "_model_module": "@jupyter-widgets/controls",
       "_model_module_version": "2.0.0",
       "_model_name": "HBoxModel",
       "_view_count": null,
       "_view_module": "@jupyter-widgets/controls",
       "_view_module_version": "2.0.0",
       "_view_name": "HBoxView",
       "box_style": "",
       "children": [
        "IPY_MODEL_949badde7f6e4ca094b695fa9cc250ae",
        "IPY_MODEL_259e9b594fb444a7a69b9d3913447d94",
        "IPY_MODEL_babe618abc6a431b87932f2d6b9abc17"
       ],
       "layout": "IPY_MODEL_4102aa0a4ac64eef92ef75e977f8df35",
       "tabbable": null,
       "tooltip": null
      }
     },
     "babe618abc6a431b87932f2d6b9abc17": {
      "model_module": "@jupyter-widgets/controls",
      "model_module_version": "2.0.0",
      "model_name": "HTMLModel",
      "state": {
       "_dom_classes": [],
       "_model_module": "@jupyter-widgets/controls",
       "_model_module_version": "2.0.0",
       "_model_name": "HTMLModel",
       "_view_count": null,
       "_view_module": "@jupyter-widgets/controls",
       "_view_module_version": "2.0.0",
       "_view_name": "HTMLView",
       "description": "",
       "description_allow_html": false,
       "layout": "IPY_MODEL_7baaf86bebca48adbfb24c6da1ae2a62",
       "placeholder": "​",
       "style": "IPY_MODEL_60b21535e2be4f4997812df845a723f8",
       "tabbable": null,
       "tooltip": null,
       "value": " 3/3 [00:03&lt;00:00,  1.08s/it]"
      }
     },
     "cdb0e5b96f9444f48051e90c3bef15c9": {
      "model_module": "@jupyter-widgets/base",
      "model_module_version": "2.0.0",
      "model_name": "LayoutModel",
      "state": {
       "_model_module": "@jupyter-widgets/base",
       "_model_module_version": "2.0.0",
       "_model_name": "LayoutModel",
       "_view_count": null,
       "_view_module": "@jupyter-widgets/base",
       "_view_module_version": "2.0.0",
       "_view_name": "LayoutView",
       "align_content": null,
       "align_items": null,
       "align_self": null,
       "border_bottom": null,
       "border_left": null,
       "border_right": null,
       "border_top": null,
       "bottom": null,
       "display": null,
       "flex": null,
       "flex_flow": null,
       "grid_area": null,
       "grid_auto_columns": null,
       "grid_auto_flow": null,
       "grid_auto_rows": null,
       "grid_column": null,
       "grid_gap": null,
       "grid_row": null,
       "grid_template_areas": null,
       "grid_template_columns": null,
       "grid_template_rows": null,
       "height": null,
       "justify_content": null,
       "justify_items": null,
       "left": null,
       "margin": null,
       "max_height": null,
       "max_width": null,
       "min_height": null,
       "min_width": null,
       "object_fit": null,
       "object_position": null,
       "order": null,
       "overflow": null,
       "padding": null,
       "right": null,
       "top": null,
       "visibility": null,
       "width": null
      }
     },
     "d31af81175764be2adda06127976e6aa": {
      "model_module": "@jupyter-widgets/base",
      "model_module_version": "2.0.0",
      "model_name": "LayoutModel",
      "state": {
       "_model_module": "@jupyter-widgets/base",
       "_model_module_version": "2.0.0",
       "_model_name": "LayoutModel",
       "_view_count": null,
       "_view_module": "@jupyter-widgets/base",
       "_view_module_version": "2.0.0",
       "_view_name": "LayoutView",
       "align_content": null,
       "align_items": null,
       "align_self": null,
       "border_bottom": null,
       "border_left": null,
       "border_right": null,
       "border_top": null,
       "bottom": null,
       "display": null,
       "flex": null,
       "flex_flow": null,
       "grid_area": null,
       "grid_auto_columns": null,
       "grid_auto_flow": null,
       "grid_auto_rows": null,
       "grid_column": null,
       "grid_gap": null,
       "grid_row": null,
       "grid_template_areas": null,
       "grid_template_columns": null,
       "grid_template_rows": null,
       "height": null,
       "justify_content": null,
       "justify_items": null,
       "left": null,
       "margin": null,
       "max_height": null,
       "max_width": null,
       "min_height": null,
       "min_width": null,
       "object_fit": null,
       "object_position": null,
       "order": null,
       "overflow": null,
       "padding": null,
       "right": null,
       "top": null,
       "visibility": null,
       "width": null
      }
     }
    },
    "version_major": 2,
    "version_minor": 0
   }
  }
 },
 "nbformat": 4,
 "nbformat_minor": 5
}
